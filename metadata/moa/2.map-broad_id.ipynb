{
 "cells": [
  {
   "cell_type": "code",
   "execution_count": 1,
   "metadata": {
    "collapsed": true
   },
   "outputs": [],
   "source": [
    "import pandas as pd\n",
    "import numpy as np"
   ]
  },
  {
   "cell_type": "code",
   "execution_count": 2,
   "outputs": [],
   "source": [
    "samples_2017 = pd.read_csv('clue/repurposing_samples_20170327.txt',usecols=['broad_id','pert_iname','InChIKey'],delimiter='\\t', comment='!', encoding='iso-8859-1')\n",
    "drugs_2017 = pd.read_csv('clue/repurposing_drugs_20170327.txt', usecols=['pert_iname','moa','target'], delimiter='\\t', comment='!', encoding='iso-8859-1')\n",
    "samples_2018 = pd.read_csv('clue/repurposing_samples_20180907.txt', usecols=['broad_id','pert_iname','InChIKey'], delimiter='\\t', comment='!', encoding='iso-8859-1')\n",
    "drugs_2018 = pd.read_csv('clue/repurposing_drugs_20180907.txt', usecols=['pert_iname','moa','target'], delimiter='\\t', comment='!', encoding='iso-8859-1')\n",
    "samples_2020 = pd.read_csv('clue/repurposing_samples_20200324.txt', usecols=['broad_id','pert_iname','InChIKey'], delimiter='\\t', comment='!', encoding='iso-8859-1')\n",
    "drugs_2020 = pd.read_csv('clue/repurposing_drugs_20200324.txt', usecols=['pert_iname','moa','target'], delimiter='\\t', comment='!', encoding='iso-8859-1')"
   ],
   "metadata": {
    "collapsed": false,
    "pycharm": {
     "name": "#%%\n"
    }
   }
  },
  {
   "cell_type": "code",
   "execution_count": 3,
   "outputs": [],
   "source": [
    "def target_annotation(samples, drugs):\n",
    "    samples = samples.merge(drugs, on='pert_iname', how='left')\n",
    "    return samples\n",
    "\n",
    "def id_cleanup(df, year):\n",
    "    df.broad_id = df.broad_id.apply(lambda x: str(x)[:13])\n",
    "    df.InChIKey = df.InChIKey.apply(lambda x: str(x)[:14])\n",
    "    df = df.drop_duplicates(['InChIKey','pert_iname','broad_id']).reset_index(drop=True)\n",
    "    df = df.rename(columns={'pert_iname':'pert_iname_'+year,\n",
    "                            'broad_id':'broad_id_'+year,\n",
    "                            'InChIKey':'InChIKey14',\n",
    "                            'moa':'moa_'+year,\n",
    "                            'target':'target_'+year})\n",
    "    return df\n",
    "\n",
    "def group_by_InChIKey14(df, year):\n",
    "    df = df.fillna('')\n",
    "    df = df.groupby('InChIKey14').agg({'broad_id_'+year : lambda x: '|'.join(np.unique(x)),\n",
    "                                       'pert_iname_'+year: lambda x: '|'.join(np.unique(x)),\n",
    "                                       'moa_'+year : lambda x: merge_target(list(x)),\n",
    "                                       'target_'+year: lambda x: merge_target(list(x))}).reset_index()\n",
    "    return df\n",
    "\n",
    "def merge_target(target):\n",
    "    out_target = '|'.join(np.unique(('|'.join(target)).split('|')))\n",
    "    return out_target"
   ],
   "metadata": {
    "collapsed": false,
    "pycharm": {
     "name": "#%%\n"
    }
   }
  },
  {
   "cell_type": "code",
   "execution_count": 4,
   "outputs": [
    {
     "data": {
      "text/plain": "                 broad_id                                         pert_iname  \\\n0  BRD-A37752546-001-01-9  (1E)-1-(2-hydroxy-5-methylphenyl)-1-dodecanone...   \n1  BRD-K89787693-001-01-1                       [sar9,met(o2)11]-substance-p   \n2  BRD-K88956297-003-01-9  1-((Z)-3-Chloroallyl)-1,3,5,7-tetraazaadamanta...   \n3  BRD-A86415025-050-01-0              1-(1,2-Diphenylethyl)piperidine-(+/-)   \n4  BRD-A95802703-001-01-0  1-(2-chloro-5-methylphenoxy)-3-(isopropylamino...   \n\n                      InChIKey  moa target  \n0  NFONIVRMILHYLH-UHFFFAOYSA-N  NaN    NaN  \n1  OUPXSLGGCPUZJJ-SARDKLJWSA-N  NaN    NaN  \n2  LDLCEGCJYSDJLX-UPHRSURJSA-N  NaN    NaN  \n3  JQWJJJYHVHNXJH-UHFFFAOYSA-N  NaN    NaN  \n4  NJEIOWSBPCZKTL-UHFFFAOYSA-N  NaN    NaN  ",
      "text/html": "<div>\n<style scoped>\n    .dataframe tbody tr th:only-of-type {\n        vertical-align: middle;\n    }\n\n    .dataframe tbody tr th {\n        vertical-align: top;\n    }\n\n    .dataframe thead th {\n        text-align: right;\n    }\n</style>\n<table border=\"1\" class=\"dataframe\">\n  <thead>\n    <tr style=\"text-align: right;\">\n      <th></th>\n      <th>broad_id</th>\n      <th>pert_iname</th>\n      <th>InChIKey</th>\n      <th>moa</th>\n      <th>target</th>\n    </tr>\n  </thead>\n  <tbody>\n    <tr>\n      <th>0</th>\n      <td>BRD-A37752546-001-01-9</td>\n      <td>(1E)-1-(2-hydroxy-5-methylphenyl)-1-dodecanone...</td>\n      <td>NFONIVRMILHYLH-UHFFFAOYSA-N</td>\n      <td>NaN</td>\n      <td>NaN</td>\n    </tr>\n    <tr>\n      <th>1</th>\n      <td>BRD-K89787693-001-01-1</td>\n      <td>[sar9,met(o2)11]-substance-p</td>\n      <td>OUPXSLGGCPUZJJ-SARDKLJWSA-N</td>\n      <td>NaN</td>\n      <td>NaN</td>\n    </tr>\n    <tr>\n      <th>2</th>\n      <td>BRD-K88956297-003-01-9</td>\n      <td>1-((Z)-3-Chloroallyl)-1,3,5,7-tetraazaadamanta...</td>\n      <td>LDLCEGCJYSDJLX-UPHRSURJSA-N</td>\n      <td>NaN</td>\n      <td>NaN</td>\n    </tr>\n    <tr>\n      <th>3</th>\n      <td>BRD-A86415025-050-01-0</td>\n      <td>1-(1,2-Diphenylethyl)piperidine-(+/-)</td>\n      <td>JQWJJJYHVHNXJH-UHFFFAOYSA-N</td>\n      <td>NaN</td>\n      <td>NaN</td>\n    </tr>\n    <tr>\n      <th>4</th>\n      <td>BRD-A95802703-001-01-0</td>\n      <td>1-(2-chloro-5-methylphenoxy)-3-(isopropylamino...</td>\n      <td>NJEIOWSBPCZKTL-UHFFFAOYSA-N</td>\n      <td>NaN</td>\n      <td>NaN</td>\n    </tr>\n  </tbody>\n</table>\n</div>"
     },
     "execution_count": 4,
     "metadata": {},
     "output_type": "execute_result"
    }
   ],
   "source": [
    "samples_2017 = target_annotation(samples_2017, drugs_2017)\n",
    "samples_2018 = target_annotation(samples_2018, drugs_2018)\n",
    "samples_2020 = target_annotation(samples_2020, drugs_2020)\n",
    "\n",
    "samples_2017.head()"
   ],
   "metadata": {
    "collapsed": false,
    "pycharm": {
     "name": "#%%\n"
    }
   }
  },
  {
   "cell_type": "code",
   "execution_count": 5,
   "outputs": [
    {
     "data": {
      "text/plain": "   broad_id_2017                                    pert_iname_2017  \\\n0  BRD-A37752546  (1E)-1-(2-hydroxy-5-methylphenyl)-1-dodecanone...   \n1  BRD-K89787693                       [sar9,met(o2)11]-substance-p   \n2  BRD-K88956297  1-((Z)-3-Chloroallyl)-1,3,5,7-tetraazaadamanta...   \n3  BRD-A86415025              1-(1,2-Diphenylethyl)piperidine-(+/-)   \n4  BRD-A95802703  1-(2-chloro-5-methylphenoxy)-3-(isopropylamino...   \n\n       InChIKey14 moa_2017 target_2017  \n0  NFONIVRMILHYLH      NaN         NaN  \n1  OUPXSLGGCPUZJJ      NaN         NaN  \n2  LDLCEGCJYSDJLX      NaN         NaN  \n3  JQWJJJYHVHNXJH      NaN         NaN  \n4  NJEIOWSBPCZKTL      NaN         NaN  ",
      "text/html": "<div>\n<style scoped>\n    .dataframe tbody tr th:only-of-type {\n        vertical-align: middle;\n    }\n\n    .dataframe tbody tr th {\n        vertical-align: top;\n    }\n\n    .dataframe thead th {\n        text-align: right;\n    }\n</style>\n<table border=\"1\" class=\"dataframe\">\n  <thead>\n    <tr style=\"text-align: right;\">\n      <th></th>\n      <th>broad_id_2017</th>\n      <th>pert_iname_2017</th>\n      <th>InChIKey14</th>\n      <th>moa_2017</th>\n      <th>target_2017</th>\n    </tr>\n  </thead>\n  <tbody>\n    <tr>\n      <th>0</th>\n      <td>BRD-A37752546</td>\n      <td>(1E)-1-(2-hydroxy-5-methylphenyl)-1-dodecanone...</td>\n      <td>NFONIVRMILHYLH</td>\n      <td>NaN</td>\n      <td>NaN</td>\n    </tr>\n    <tr>\n      <th>1</th>\n      <td>BRD-K89787693</td>\n      <td>[sar9,met(o2)11]-substance-p</td>\n      <td>OUPXSLGGCPUZJJ</td>\n      <td>NaN</td>\n      <td>NaN</td>\n    </tr>\n    <tr>\n      <th>2</th>\n      <td>BRD-K88956297</td>\n      <td>1-((Z)-3-Chloroallyl)-1,3,5,7-tetraazaadamanta...</td>\n      <td>LDLCEGCJYSDJLX</td>\n      <td>NaN</td>\n      <td>NaN</td>\n    </tr>\n    <tr>\n      <th>3</th>\n      <td>BRD-A86415025</td>\n      <td>1-(1,2-Diphenylethyl)piperidine-(+/-)</td>\n      <td>JQWJJJYHVHNXJH</td>\n      <td>NaN</td>\n      <td>NaN</td>\n    </tr>\n    <tr>\n      <th>4</th>\n      <td>BRD-A95802703</td>\n      <td>1-(2-chloro-5-methylphenoxy)-3-(isopropylamino...</td>\n      <td>NJEIOWSBPCZKTL</td>\n      <td>NaN</td>\n      <td>NaN</td>\n    </tr>\n  </tbody>\n</table>\n</div>"
     },
     "execution_count": 5,
     "metadata": {},
     "output_type": "execute_result"
    }
   ],
   "source": [
    "samples_2017 = id_cleanup(samples_2017, \"2017\")\n",
    "samples_2018 = id_cleanup(samples_2018, \"2018\")\n",
    "samples_2020 = id_cleanup(samples_2020, \"2020\")\n",
    "\n",
    "samples_2017.head()"
   ],
   "metadata": {
    "collapsed": false,
    "pycharm": {
     "name": "#%%\n"
    }
   }
  },
  {
   "cell_type": "code",
   "execution_count": 6,
   "outputs": [
    {
     "data": {
      "text/plain": "       InChIKey14                broad_id_2017      pert_iname_2017  \\\n0  AAALVYBICLMAMA                BRD-K13087974            CGP-52411   \n1  AAAQFGUYHFJNHI                BRD-K08109215            I-BET-762   \n2  AADCDMQTJNYOSS                BRD-K50417881          eticlopride   \n3  AAFJXZWCNVJTMK                BRD-K68502831  dianhydrogalactitol   \n4  AAGFPTSOPGCENQ  BRD-K10999968|BRD-K66845263         sophocarpine   \n\n                       moa_2017     target_2017  \n0                EGFR inhibitor            EGFR  \n1         bromodomain inhibitor  BRD2|BRD3|BRD4  \n2  dopamine receptor antagonist  DRD2|DRD3|DRD4  \n3          DNA alkylating agent                  \n4                                                ",
      "text/html": "<div>\n<style scoped>\n    .dataframe tbody tr th:only-of-type {\n        vertical-align: middle;\n    }\n\n    .dataframe tbody tr th {\n        vertical-align: top;\n    }\n\n    .dataframe thead th {\n        text-align: right;\n    }\n</style>\n<table border=\"1\" class=\"dataframe\">\n  <thead>\n    <tr style=\"text-align: right;\">\n      <th></th>\n      <th>InChIKey14</th>\n      <th>broad_id_2017</th>\n      <th>pert_iname_2017</th>\n      <th>moa_2017</th>\n      <th>target_2017</th>\n    </tr>\n  </thead>\n  <tbody>\n    <tr>\n      <th>0</th>\n      <td>AAALVYBICLMAMA</td>\n      <td>BRD-K13087974</td>\n      <td>CGP-52411</td>\n      <td>EGFR inhibitor</td>\n      <td>EGFR</td>\n    </tr>\n    <tr>\n      <th>1</th>\n      <td>AAAQFGUYHFJNHI</td>\n      <td>BRD-K08109215</td>\n      <td>I-BET-762</td>\n      <td>bromodomain inhibitor</td>\n      <td>BRD2|BRD3|BRD4</td>\n    </tr>\n    <tr>\n      <th>2</th>\n      <td>AADCDMQTJNYOSS</td>\n      <td>BRD-K50417881</td>\n      <td>eticlopride</td>\n      <td>dopamine receptor antagonist</td>\n      <td>DRD2|DRD3|DRD4</td>\n    </tr>\n    <tr>\n      <th>3</th>\n      <td>AAFJXZWCNVJTMK</td>\n      <td>BRD-K68502831</td>\n      <td>dianhydrogalactitol</td>\n      <td>DNA alkylating agent</td>\n      <td></td>\n    </tr>\n    <tr>\n      <th>4</th>\n      <td>AAGFPTSOPGCENQ</td>\n      <td>BRD-K10999968|BRD-K66845263</td>\n      <td>sophocarpine</td>\n      <td></td>\n      <td></td>\n    </tr>\n  </tbody>\n</table>\n</div>"
     },
     "execution_count": 6,
     "metadata": {},
     "output_type": "execute_result"
    }
   ],
   "source": [
    "samples_2017 = group_by_InChIKey14(samples_2017, \"2017\")\n",
    "samples_2018 = group_by_InChIKey14(samples_2018, \"2018\")\n",
    "samples_2020 = group_by_InChIKey14(samples_2020, \"2020\")\n",
    "\n",
    "samples_2017.head()"
   ],
   "metadata": {
    "collapsed": false,
    "pycharm": {
     "name": "#%%\n"
    }
   }
  },
  {
   "cell_type": "code",
   "execution_count": 7,
   "outputs": [
    {
     "data": {
      "text/plain": "       InChIKey14                broad_id_2017      pert_iname_2017  \\\n0  AAALVYBICLMAMA                BRD-K13087974            CGP-52411   \n1  AAAQFGUYHFJNHI                BRD-K08109215            I-BET-762   \n2  AADCDMQTJNYOSS                BRD-K50417881          eticlopride   \n3  AAFJXZWCNVJTMK                BRD-K68502831  dianhydrogalactitol   \n4  AAGFPTSOPGCENQ  BRD-K10999968|BRD-K66845263         sophocarpine   \n\n                       moa_2017     target_2017  broad_id_2018  \\\n0                EGFR inhibitor            EGFR  BRD-K13087974   \n1         bromodomain inhibitor  BRD2|BRD3|BRD4  BRD-K08109215   \n2  dopamine receptor antagonist  DRD2|DRD3|DRD4  BRD-K50417881   \n3          DNA alkylating agent             NaN  BRD-K68502831   \n4                           NaN             NaN  BRD-K66845263   \n\n       pert_iname_2018                      moa_2018     target_2018  \\\n0            CGP-52411                EGFR inhibitor            EGFR   \n1            I-BET-762         bromodomain inhibitor  BRD2|BRD3|BRD4   \n2          eticlopride  dopamine receptor antagonist  DRD2|DRD3|DRD4   \n3  dianhydrogalactitol          DNA alkylating agent             NaN   \n4         sophocarpine                           NaN             NaN   \n\n   broad_id_2020      pert_iname_2020                      moa_2020  \\\n0  BRD-K13087974            CGP-52411                EGFR inhibitor   \n1  BRD-K08109215            I-BET-762         bromodomain inhibitor   \n2  BRD-K50417881          eticlopride  dopamine receptor antagonist   \n3  BRD-K68502831  dianhydrogalactitol          DNA alkylating agent   \n4  BRD-K66845263         sophocarpine                           NaN   \n\n      target_2020  \n0            EGFR  \n1  BRD2|BRD3|BRD4  \n2  DRD2|DRD3|DRD4  \n3             NaN  \n4             NaN  ",
      "text/html": "<div>\n<style scoped>\n    .dataframe tbody tr th:only-of-type {\n        vertical-align: middle;\n    }\n\n    .dataframe tbody tr th {\n        vertical-align: top;\n    }\n\n    .dataframe thead th {\n        text-align: right;\n    }\n</style>\n<table border=\"1\" class=\"dataframe\">\n  <thead>\n    <tr style=\"text-align: right;\">\n      <th></th>\n      <th>InChIKey14</th>\n      <th>broad_id_2017</th>\n      <th>pert_iname_2017</th>\n      <th>moa_2017</th>\n      <th>target_2017</th>\n      <th>broad_id_2018</th>\n      <th>pert_iname_2018</th>\n      <th>moa_2018</th>\n      <th>target_2018</th>\n      <th>broad_id_2020</th>\n      <th>pert_iname_2020</th>\n      <th>moa_2020</th>\n      <th>target_2020</th>\n    </tr>\n  </thead>\n  <tbody>\n    <tr>\n      <th>0</th>\n      <td>AAALVYBICLMAMA</td>\n      <td>BRD-K13087974</td>\n      <td>CGP-52411</td>\n      <td>EGFR inhibitor</td>\n      <td>EGFR</td>\n      <td>BRD-K13087974</td>\n      <td>CGP-52411</td>\n      <td>EGFR inhibitor</td>\n      <td>EGFR</td>\n      <td>BRD-K13087974</td>\n      <td>CGP-52411</td>\n      <td>EGFR inhibitor</td>\n      <td>EGFR</td>\n    </tr>\n    <tr>\n      <th>1</th>\n      <td>AAAQFGUYHFJNHI</td>\n      <td>BRD-K08109215</td>\n      <td>I-BET-762</td>\n      <td>bromodomain inhibitor</td>\n      <td>BRD2|BRD3|BRD4</td>\n      <td>BRD-K08109215</td>\n      <td>I-BET-762</td>\n      <td>bromodomain inhibitor</td>\n      <td>BRD2|BRD3|BRD4</td>\n      <td>BRD-K08109215</td>\n      <td>I-BET-762</td>\n      <td>bromodomain inhibitor</td>\n      <td>BRD2|BRD3|BRD4</td>\n    </tr>\n    <tr>\n      <th>2</th>\n      <td>AADCDMQTJNYOSS</td>\n      <td>BRD-K50417881</td>\n      <td>eticlopride</td>\n      <td>dopamine receptor antagonist</td>\n      <td>DRD2|DRD3|DRD4</td>\n      <td>BRD-K50417881</td>\n      <td>eticlopride</td>\n      <td>dopamine receptor antagonist</td>\n      <td>DRD2|DRD3|DRD4</td>\n      <td>BRD-K50417881</td>\n      <td>eticlopride</td>\n      <td>dopamine receptor antagonist</td>\n      <td>DRD2|DRD3|DRD4</td>\n    </tr>\n    <tr>\n      <th>3</th>\n      <td>AAFJXZWCNVJTMK</td>\n      <td>BRD-K68502831</td>\n      <td>dianhydrogalactitol</td>\n      <td>DNA alkylating agent</td>\n      <td>NaN</td>\n      <td>BRD-K68502831</td>\n      <td>dianhydrogalactitol</td>\n      <td>DNA alkylating agent</td>\n      <td>NaN</td>\n      <td>BRD-K68502831</td>\n      <td>dianhydrogalactitol</td>\n      <td>DNA alkylating agent</td>\n      <td>NaN</td>\n    </tr>\n    <tr>\n      <th>4</th>\n      <td>AAGFPTSOPGCENQ</td>\n      <td>BRD-K10999968|BRD-K66845263</td>\n      <td>sophocarpine</td>\n      <td>NaN</td>\n      <td>NaN</td>\n      <td>BRD-K66845263</td>\n      <td>sophocarpine</td>\n      <td>NaN</td>\n      <td>NaN</td>\n      <td>BRD-K66845263</td>\n      <td>sophocarpine</td>\n      <td>NaN</td>\n      <td>NaN</td>\n    </tr>\n  </tbody>\n</table>\n</div>"
     },
     "execution_count": 7,
     "metadata": {},
     "output_type": "execute_result"
    }
   ],
   "source": [
    "merged_df = samples_2017.merge(samples_2018, on='InChIKey14', how='outer')\n",
    "merged_df = merged_df.merge(samples_2020, on='InChIKey14', how='outer')\n",
    "merged_df= merged_df.replace(to_replace='', value=np.nan)\n",
    "\n",
    "merged_df.head()"
   ],
   "metadata": {
    "collapsed": false,
    "pycharm": {
     "name": "#%%\n"
    }
   }
  },
  {
   "cell_type": "code",
   "execution_count": 8,
   "outputs": [],
   "source": [
    "merged_df.to_csv('clue/broad_id_map.csv', index=False)\n"
   ],
   "metadata": {
    "collapsed": false,
    "pycharm": {
     "name": "#%%\n"
    }
   }
  }
 ],
 "metadata": {
  "kernelspec": {
   "name": "pycharm-c3da358c",
   "language": "python",
   "display_name": "PyCharm (jump-cellpainting)"
  },
  "language_info": {
   "codemirror_mode": {
    "name": "ipython",
    "version": 2
   },
   "file_extension": ".py",
   "mimetype": "text/x-python",
   "name": "python",
   "nbconvert_exporter": "python",
   "pygments_lexer": "ipython2",
   "version": "2.7.6"
  }
 },
 "nbformat": 4,
 "nbformat_minor": 0
}