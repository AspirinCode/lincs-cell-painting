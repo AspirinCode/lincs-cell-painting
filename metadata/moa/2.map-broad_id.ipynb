{
 "cells": [
  {
   "cell_type": "code",
   "execution_count": null,
   "metadata": {},
   "outputs": [],
   "source": [
    "%load_ext nb_black"
   ]
  },
  {
   "cell_type": "code",
   "execution_count": 1,
   "metadata": {},
   "outputs": [
    {
     "name": "stderr",
     "output_type": "stream",
     "text": [
      "RDKit WARNING: [13:03:15] Enabling RDKit 2019.09.3 jupyter extensions\n"
     ]
    },
    {
     "data": {
      "application/javascript": [
       "\n",
       "            setTimeout(function() {\n",
       "                var nbb_cell_id = 1;\n",
       "                var nbb_unformatted_code = \"import pandas as pd\\nimport numpy as np\\nimport rdkit.Chem.inchi as inchi\\nimport os.path\\n\\n%load_ext nb_black\";\n",
       "                var nbb_formatted_code = \"import pandas as pd\\nimport numpy as np\\nimport rdkit.Chem.inchi as inchi\\nimport os.path\\n\\n%load_ext nb_black\";\n",
       "                var nbb_cells = Jupyter.notebook.get_cells();\n",
       "                for (var i = 0; i < nbb_cells.length; ++i) {\n",
       "                    if (nbb_cells[i].input_prompt_number == nbb_cell_id) {\n",
       "                        if (nbb_cells[i].get_text() == nbb_unformatted_code) {\n",
       "                             nbb_cells[i].set_text(nbb_formatted_code);\n",
       "                        }\n",
       "                        break;\n",
       "                    }\n",
       "                }\n",
       "            }, 500);\n",
       "            "
      ],
      "text/plain": [
       "<IPython.core.display.Javascript object>"
      ]
     },
     "metadata": {},
     "output_type": "display_data"
    }
   ],
   "source": [
    "import pandas as pd\n",
    "import numpy as np\n",
    "import rdkit.Chem.inchi as inchi\n",
    "import os.path\n"
   ]
  },
  {
   "cell_type": "markdown",
   "metadata": {
    "pycharm": {
     "name": "#%% md\n"
    }
   },
   "source": [
    "Sample files from each version of the repurposing hub are read"
   ]
  },
  {
   "cell_type": "code",
   "execution_count": 2,
   "metadata": {
    "pycharm": {
     "name": "#%%\n"
    }
   },
   "outputs": [
    {
     "data": {
      "application/javascript": [
       "\n",
       "            setTimeout(function() {\n",
       "                var nbb_cell_id = 2;\n",
       "                var nbb_unformatted_code = \"cols = ['broad_id','pert_iname','InChIKey','deprecated_broad_id']\\n\\nsamples_2017 = pd.read_csv('clue/repurposing_samples_20170327.txt',usecols=cols[:-1],delimiter='\\\\t', comment='!', encoding='iso-8859-1')\\nsamples_2018a = pd.read_csv('clue/repurposing_samples_20180516.txt', usecols=cols, delimiter='\\\\t', comment='!', encoding='iso-8859-1')\\nsamples_2018b = pd.read_csv('clue/repurposing_samples_20180907.txt', usecols=cols, delimiter='\\\\t', comment='!', encoding='iso-8859-1')\\nsamples_2020 = pd.read_csv('clue/repurposing_samples_20200324.txt', usecols=cols, delimiter='\\\\t', comment='!', encoding='iso-8859-1')\";\n",
       "                var nbb_formatted_code = \"cols = [\\\"broad_id\\\", \\\"pert_iname\\\", \\\"InChIKey\\\", \\\"deprecated_broad_id\\\"]\\n\\nsamples_2017 = pd.read_csv(\\n    \\\"clue/repurposing_samples_20170327.txt\\\",\\n    usecols=cols[:-1],\\n    delimiter=\\\"\\\\t\\\",\\n    comment=\\\"!\\\",\\n    encoding=\\\"iso-8859-1\\\",\\n)\\nsamples_2018a = pd.read_csv(\\n    \\\"clue/repurposing_samples_20180516.txt\\\",\\n    usecols=cols,\\n    delimiter=\\\"\\\\t\\\",\\n    comment=\\\"!\\\",\\n    encoding=\\\"iso-8859-1\\\",\\n)\\nsamples_2018b = pd.read_csv(\\n    \\\"clue/repurposing_samples_20180907.txt\\\",\\n    usecols=cols,\\n    delimiter=\\\"\\\\t\\\",\\n    comment=\\\"!\\\",\\n    encoding=\\\"iso-8859-1\\\",\\n)\\nsamples_2020 = pd.read_csv(\\n    \\\"clue/repurposing_samples_20200324.txt\\\",\\n    usecols=cols,\\n    delimiter=\\\"\\\\t\\\",\\n    comment=\\\"!\\\",\\n    encoding=\\\"iso-8859-1\\\",\\n)\";\n",
       "                var nbb_cells = Jupyter.notebook.get_cells();\n",
       "                for (var i = 0; i < nbb_cells.length; ++i) {\n",
       "                    if (nbb_cells[i].input_prompt_number == nbb_cell_id) {\n",
       "                        if (nbb_cells[i].get_text() == nbb_unformatted_code) {\n",
       "                             nbb_cells[i].set_text(nbb_formatted_code);\n",
       "                        }\n",
       "                        break;\n",
       "                    }\n",
       "                }\n",
       "            }, 500);\n",
       "            "
      ],
      "text/plain": [
       "<IPython.core.display.Javascript object>"
      ]
     },
     "metadata": {},
     "output_type": "display_data"
    }
   ],
   "source": [
    "cols = [\"broad_id\", \"pert_iname\", \"InChIKey\", \"deprecated_broad_id\"]\n",
    "\n",
    "samples_2017 = pd.read_csv(\n",
    "    \"clue/repurposing_samples_20170327.txt\",\n",
    "    usecols=cols[:-1],\n",
    "    delimiter=\"\\t\",\n",
    "    comment=\"!\",\n",
    "    encoding=\"iso-8859-1\",\n",
    ")\n",
    "samples_2018a = pd.read_csv(\n",
    "    \"clue/repurposing_samples_20180516.txt\",\n",
    "    usecols=cols,\n",
    "    delimiter=\"\\t\",\n",
    "    comment=\"!\",\n",
    "    encoding=\"iso-8859-1\",\n",
    ")\n",
    "samples_2018b = pd.read_csv(\n",
    "    \"clue/repurposing_samples_20180907.txt\",\n",
    "    usecols=cols,\n",
    "    delimiter=\"\\t\",\n",
    "    comment=\"!\",\n",
    "    encoding=\"iso-8859-1\",\n",
    ")\n",
    "samples_2020 = pd.read_csv(\n",
    "    \"clue/repurposing_samples_20200324.txt\",\n",
    "    usecols=cols,\n",
    "    delimiter=\"\\t\",\n",
    "    comment=\"!\",\n",
    "    encoding=\"iso-8859-1\",\n",
    ")"
   ]
  },
  {
   "cell_type": "code",
   "execution_count": 3,
   "metadata": {
    "pycharm": {
     "name": "#%%\n"
    }
   },
   "outputs": [
    {
     "data": {
      "application/javascript": [
       "\n",
       "            setTimeout(function() {\n",
       "                var nbb_cell_id = 3;\n",
       "                var nbb_unformatted_code = \"# 2017 version is missing deprecated_broad_id\\nsamples_2017 = samples_2017.assign(deprecated_broad_id=np.nan)\";\n",
       "                var nbb_formatted_code = \"# 2017 version is missing deprecated_broad_id\\nsamples_2017 = samples_2017.assign(deprecated_broad_id=np.nan)\";\n",
       "                var nbb_cells = Jupyter.notebook.get_cells();\n",
       "                for (var i = 0; i < nbb_cells.length; ++i) {\n",
       "                    if (nbb_cells[i].input_prompt_number == nbb_cell_id) {\n",
       "                        if (nbb_cells[i].get_text() == nbb_unformatted_code) {\n",
       "                             nbb_cells[i].set_text(nbb_formatted_code);\n",
       "                        }\n",
       "                        break;\n",
       "                    }\n",
       "                }\n",
       "            }, 500);\n",
       "            "
      ],
      "text/plain": [
       "<IPython.core.display.Javascript object>"
      ]
     },
     "metadata": {},
     "output_type": "display_data"
    }
   ],
   "source": [
    "# 2017 version is missing deprecated_broad_id\n",
    "samples_2017 = samples_2017.assign(deprecated_broad_id=np.nan)"
   ]
  },
  {
   "cell_type": "code",
   "execution_count": 4,
   "metadata": {
    "pycharm": {
     "name": "#%%\n"
    }
   },
   "outputs": [
    {
     "data": {
      "application/javascript": [
       "\n",
       "            setTimeout(function() {\n",
       "                var nbb_cell_id = 4;\n",
       "                var nbb_unformatted_code = \"# The first 13 characters of the Broad ID and the first 14 characters of InChIKey are extracted\\n# Year names are appended to column names\\n# For some rows InChI are extracted instead of InChIKey -> these are fixed\\n\\ndef id_cleanup(df, version):\\n    df = (\\n        df.dropna(subset=['InChIKey'])\\n        .reset_index(drop=True)\\n    )\\n\\n    df.InChIKey = (\\n        df.InChIKey.apply(lambda x: inchi.InchiToInchiKey(x) if (x.startswith('InChI')) else x)\\n        .apply(lambda x: str(x)[:14])\\n    )\\n    \\n    df.broad_id = df.broad_id.apply(lambda x: str(x)[:13])\\n\\n    df = (\\n        df.drop_duplicates(['InChIKey','pert_iname','broad_id','deprecated_broad_id'])\\n        .rename(columns={'pert_iname':f'pert_iname_{version}',\\n                            'broad_id':f'broad_id_{version}',\\n                            'deprecated_broad_id':f'deprecated_broad_id_{version}',\\n                            'InChIKey':'InChIKey14'})\\n        .reset_index(drop=True)\\n    )\\n\\n    return df\\n\\n# Grouping samples using InChIKey14 while all other fields are pipe delimited\\n\\ndef group_by_InChIKey14(df, version):\\n    df = df.fillna('')\\n    df = df.groupby('InChIKey14').agg({f'broad_id_{version}' : lambda x: '|'.join(np.unique(x)),\\n                                       f'deprecated_broad_id_{version}': lambda x: create_pipe_separated_list(list(x)),\\n                                       f'pert_iname_{version}': lambda x: '|'.join(np.unique(x))}).reset_index()\\n    return df\\n\\n# This function cleans up empty deprecated_broad_ids, de-duplicates them and then separates them with pipes\\n\\ndef create_pipe_separated_list(target):\\n    joined_target = ('|'.join(target)).split('|')\\n    while '' in joined_target:\\n        joined_target.remove('')\\n    out_target = '|'.join(np.unique(joined_target))\\n    return out_target\";\n",
       "                var nbb_formatted_code = \"# The first 13 characters of the Broad ID and the first 14 characters of InChIKey are extracted\\n# Year names are appended to column names\\n# For some rows InChI are extracted instead of InChIKey -> these are fixed\\n\\n\\ndef id_cleanup(df, version):\\n    df = df.dropna(subset=[\\\"InChIKey\\\"]).reset_index(drop=True)\\n\\n    df.InChIKey = df.InChIKey.apply(\\n        lambda x: inchi.InchiToInchiKey(x) if (x.startswith(\\\"InChI\\\")) else x\\n    ).apply(lambda x: str(x)[:14])\\n\\n    df.broad_id = df.broad_id.apply(lambda x: str(x)[:13])\\n\\n    df = (\\n        df.drop_duplicates(\\n            [\\\"InChIKey\\\", \\\"pert_iname\\\", \\\"broad_id\\\", \\\"deprecated_broad_id\\\"]\\n        )\\n        .rename(\\n            columns={\\n                \\\"pert_iname\\\": f\\\"pert_iname_{version}\\\",\\n                \\\"broad_id\\\": f\\\"broad_id_{version}\\\",\\n                \\\"deprecated_broad_id\\\": f\\\"deprecated_broad_id_{version}\\\",\\n                \\\"InChIKey\\\": \\\"InChIKey14\\\",\\n            }\\n        )\\n        .reset_index(drop=True)\\n    )\\n\\n    return df\\n\\n\\n# Grouping samples using InChIKey14 while all other fields are pipe delimited\\n\\n\\ndef group_by_InChIKey14(df, version):\\n    df = df.fillna(\\\"\\\")\\n    df = (\\n        df.groupby(\\\"InChIKey14\\\")\\n        .agg(\\n            {\\n                f\\\"broad_id_{version}\\\": lambda x: \\\"|\\\".join(np.unique(x)),\\n                f\\\"deprecated_broad_id_{version}\\\": lambda x: create_pipe_separated_list(\\n                    list(x)\\n                ),\\n                f\\\"pert_iname_{version}\\\": lambda x: \\\"|\\\".join(np.unique(x)),\\n            }\\n        )\\n        .reset_index()\\n    )\\n    return df\\n\\n\\n# This function cleans up empty deprecated_broad_ids, de-duplicates them and then separates them with pipes\\n\\n\\ndef create_pipe_separated_list(target):\\n    joined_target = (\\\"|\\\".join(target)).split(\\\"|\\\")\\n    while \\\"\\\" in joined_target:\\n        joined_target.remove(\\\"\\\")\\n    out_target = \\\"|\\\".join(np.unique(joined_target))\\n    return out_target\";\n",
       "                var nbb_cells = Jupyter.notebook.get_cells();\n",
       "                for (var i = 0; i < nbb_cells.length; ++i) {\n",
       "                    if (nbb_cells[i].input_prompt_number == nbb_cell_id) {\n",
       "                        if (nbb_cells[i].get_text() == nbb_unformatted_code) {\n",
       "                             nbb_cells[i].set_text(nbb_formatted_code);\n",
       "                        }\n",
       "                        break;\n",
       "                    }\n",
       "                }\n",
       "            }, 500);\n",
       "            "
      ],
      "text/plain": [
       "<IPython.core.display.Javascript object>"
      ]
     },
     "metadata": {},
     "output_type": "display_data"
    }
   ],
   "source": [
    "# The first 13 characters of the Broad ID and the first 14 characters of InChIKey are extracted\n",
    "# Year names are appended to column names\n",
    "# For some rows InChI are extracted instead of InChIKey -> these are fixed\n",
    "\n",
    "\n",
    "def id_cleanup(df, version):\n",
    "    df = df.dropna(subset=[\"InChIKey\"]).reset_index(drop=True)\n",
    "\n",
    "    df.InChIKey = df.InChIKey.apply(\n",
    "        lambda x: inchi.InchiToInchiKey(x) if (x.startswith(\"InChI\")) else x\n",
    "    ).apply(lambda x: str(x)[:14])\n",
    "\n",
    "    df.broad_id = df.broad_id.apply(lambda x: str(x)[:13])\n",
    "\n",
    "    df = (\n",
    "        df.drop_duplicates(\n",
    "            [\"InChIKey\", \"pert_iname\", \"broad_id\", \"deprecated_broad_id\"]\n",
    "        )\n",
    "        .rename(\n",
    "            columns={\n",
    "                \"pert_iname\": f\"pert_iname_{version}\",\n",
    "                \"broad_id\": f\"broad_id_{version}\",\n",
    "                \"deprecated_broad_id\": f\"deprecated_broad_id_{version}\",\n",
    "                \"InChIKey\": \"InChIKey14\",\n",
    "            }\n",
    "        )\n",
    "        .reset_index(drop=True)\n",
    "    )\n",
    "\n",
    "    return df\n",
    "\n",
    "\n",
    "# Grouping samples using InChIKey14 while all other fields are pipe delimited\n",
    "\n",
    "\n",
    "def group_by_InChIKey14(df, version):\n",
    "    df = df.fillna(\"\")\n",
    "    df = (\n",
    "        df.groupby(\"InChIKey14\")\n",
    "        .agg(\n",
    "            {\n",
    "                f\"broad_id_{version}\": lambda x: \"|\".join(np.unique(x)),\n",
    "                f\"deprecated_broad_id_{version}\": lambda x: create_pipe_separated_list(\n",
    "                    list(x)\n",
    "                ),\n",
    "                f\"pert_iname_{version}\": lambda x: \"|\".join(np.unique(x)),\n",
    "            }\n",
    "        )\n",
    "        .reset_index()\n",
    "    )\n",
    "    return df\n",
    "\n",
    "\n",
    "# This function cleans up empty deprecated_broad_ids, de-duplicates them and then separates them with pipes\n",
    "\n",
    "\n",
    "def create_pipe_separated_list(target):\n",
    "    joined_target = (\"|\".join(target)).split(\"|\")\n",
    "    while \"\" in joined_target:\n",
    "        joined_target.remove(\"\")\n",
    "    out_target = \"|\".join(np.unique(joined_target))\n",
    "    return out_target"
   ]
  },
  {
   "cell_type": "code",
   "execution_count": 5,
   "metadata": {
    "pycharm": {
     "name": "#%%\n"
    }
   },
   "outputs": [
    {
     "data": {
      "text/html": [
       "<div>\n",
       "<style scoped>\n",
       "    .dataframe tbody tr th:only-of-type {\n",
       "        vertical-align: middle;\n",
       "    }\n",
       "\n",
       "    .dataframe tbody tr th {\n",
       "        vertical-align: top;\n",
       "    }\n",
       "\n",
       "    .dataframe thead th {\n",
       "        text-align: right;\n",
       "    }\n",
       "</style>\n",
       "<table border=\"1\" class=\"dataframe\">\n",
       "  <thead>\n",
       "    <tr style=\"text-align: right;\">\n",
       "      <th></th>\n",
       "      <th>broad_id_20170327</th>\n",
       "      <th>pert_iname_20170327</th>\n",
       "      <th>InChIKey14</th>\n",
       "      <th>deprecated_broad_id_20170327</th>\n",
       "    </tr>\n",
       "  </thead>\n",
       "  <tbody>\n",
       "    <tr>\n",
       "      <th>0</th>\n",
       "      <td>BRD-A37752546</td>\n",
       "      <td>(1E)-1-(2-hydroxy-5-methylphenyl)-1-dodecanone...</td>\n",
       "      <td>NFONIVRMILHYLH</td>\n",
       "      <td>NaN</td>\n",
       "    </tr>\n",
       "    <tr>\n",
       "      <th>1</th>\n",
       "      <td>BRD-K89787693</td>\n",
       "      <td>[sar9,met(o2)11]-substance-p</td>\n",
       "      <td>OUPXSLGGCPUZJJ</td>\n",
       "      <td>NaN</td>\n",
       "    </tr>\n",
       "    <tr>\n",
       "      <th>2</th>\n",
       "      <td>BRD-K88956297</td>\n",
       "      <td>1-((Z)-3-Chloroallyl)-1,3,5,7-tetraazaadamanta...</td>\n",
       "      <td>LDLCEGCJYSDJLX</td>\n",
       "      <td>NaN</td>\n",
       "    </tr>\n",
       "    <tr>\n",
       "      <th>3</th>\n",
       "      <td>BRD-A86415025</td>\n",
       "      <td>1-(1,2-Diphenylethyl)piperidine-(+/-)</td>\n",
       "      <td>JQWJJJYHVHNXJH</td>\n",
       "      <td>NaN</td>\n",
       "    </tr>\n",
       "    <tr>\n",
       "      <th>4</th>\n",
       "      <td>BRD-A95802703</td>\n",
       "      <td>1-(2-chloro-5-methylphenoxy)-3-(isopropylamino...</td>\n",
       "      <td>NJEIOWSBPCZKTL</td>\n",
       "      <td>NaN</td>\n",
       "    </tr>\n",
       "  </tbody>\n",
       "</table>\n",
       "</div>"
      ],
      "text/plain": [
       "  broad_id_20170327                                pert_iname_20170327  \\\n",
       "0     BRD-A37752546  (1E)-1-(2-hydroxy-5-methylphenyl)-1-dodecanone...   \n",
       "1     BRD-K89787693                       [sar9,met(o2)11]-substance-p   \n",
       "2     BRD-K88956297  1-((Z)-3-Chloroallyl)-1,3,5,7-tetraazaadamanta...   \n",
       "3     BRD-A86415025              1-(1,2-Diphenylethyl)piperidine-(+/-)   \n",
       "4     BRD-A95802703  1-(2-chloro-5-methylphenoxy)-3-(isopropylamino...   \n",
       "\n",
       "       InChIKey14  deprecated_broad_id_20170327  \n",
       "0  NFONIVRMILHYLH                           NaN  \n",
       "1  OUPXSLGGCPUZJJ                           NaN  \n",
       "2  LDLCEGCJYSDJLX                           NaN  \n",
       "3  JQWJJJYHVHNXJH                           NaN  \n",
       "4  NJEIOWSBPCZKTL                           NaN  "
      ]
     },
     "execution_count": 5,
     "metadata": {},
     "output_type": "execute_result"
    },
    {
     "data": {
      "application/javascript": [
       "\n",
       "            setTimeout(function() {\n",
       "                var nbb_cell_id = 5;\n",
       "                var nbb_unformatted_code = \"samples_2017 = id_cleanup(samples_2017, \\\"20170327\\\")\\nsamples_2018a = id_cleanup(samples_2018a, \\\"20180516\\\")\\nsamples_2018b = id_cleanup(samples_2018b, \\\"20180907\\\")\\nsamples_2020 = id_cleanup(samples_2020, \\\"20200324\\\")\\n\\nsamples_2017.head()\";\n",
       "                var nbb_formatted_code = \"samples_2017 = id_cleanup(samples_2017, \\\"20170327\\\")\\nsamples_2018a = id_cleanup(samples_2018a, \\\"20180516\\\")\\nsamples_2018b = id_cleanup(samples_2018b, \\\"20180907\\\")\\nsamples_2020 = id_cleanup(samples_2020, \\\"20200324\\\")\\n\\nsamples_2017.head()\";\n",
       "                var nbb_cells = Jupyter.notebook.get_cells();\n",
       "                for (var i = 0; i < nbb_cells.length; ++i) {\n",
       "                    if (nbb_cells[i].input_prompt_number == nbb_cell_id) {\n",
       "                        if (nbb_cells[i].get_text() == nbb_unformatted_code) {\n",
       "                             nbb_cells[i].set_text(nbb_formatted_code);\n",
       "                        }\n",
       "                        break;\n",
       "                    }\n",
       "                }\n",
       "            }, 500);\n",
       "            "
      ],
      "text/plain": [
       "<IPython.core.display.Javascript object>"
      ]
     },
     "metadata": {},
     "output_type": "display_data"
    }
   ],
   "source": [
    "samples_2017 = id_cleanup(samples_2017, \"20170327\")\n",
    "samples_2018a = id_cleanup(samples_2018a, \"20180516\")\n",
    "samples_2018b = id_cleanup(samples_2018b, \"20180907\")\n",
    "samples_2020 = id_cleanup(samples_2020, \"20200324\")\n",
    "\n",
    "samples_2017.head()"
   ]
  },
  {
   "cell_type": "code",
   "execution_count": 6,
   "metadata": {
    "pycharm": {
     "name": "#%%\n"
    }
   },
   "outputs": [
    {
     "data": {
      "text/html": [
       "<div>\n",
       "<style scoped>\n",
       "    .dataframe tbody tr th:only-of-type {\n",
       "        vertical-align: middle;\n",
       "    }\n",
       "\n",
       "    .dataframe tbody tr th {\n",
       "        vertical-align: top;\n",
       "    }\n",
       "\n",
       "    .dataframe thead th {\n",
       "        text-align: right;\n",
       "    }\n",
       "</style>\n",
       "<table border=\"1\" class=\"dataframe\">\n",
       "  <thead>\n",
       "    <tr style=\"text-align: right;\">\n",
       "      <th></th>\n",
       "      <th>InChIKey14</th>\n",
       "      <th>broad_id_20170327</th>\n",
       "      <th>deprecated_broad_id_20170327</th>\n",
       "      <th>pert_iname_20170327</th>\n",
       "    </tr>\n",
       "  </thead>\n",
       "  <tbody>\n",
       "    <tr>\n",
       "      <th>0</th>\n",
       "      <td>AAALVYBICLMAMA</td>\n",
       "      <td>BRD-K13087974</td>\n",
       "      <td></td>\n",
       "      <td>CGP-52411</td>\n",
       "    </tr>\n",
       "    <tr>\n",
       "      <th>1</th>\n",
       "      <td>AAAQFGUYHFJNHI</td>\n",
       "      <td>BRD-K08109215</td>\n",
       "      <td></td>\n",
       "      <td>I-BET-762</td>\n",
       "    </tr>\n",
       "    <tr>\n",
       "      <th>2</th>\n",
       "      <td>AADCDMQTJNYOSS</td>\n",
       "      <td>BRD-K50417881</td>\n",
       "      <td></td>\n",
       "      <td>eticlopride</td>\n",
       "    </tr>\n",
       "    <tr>\n",
       "      <th>3</th>\n",
       "      <td>AAFJXZWCNVJTMK</td>\n",
       "      <td>BRD-K68502831</td>\n",
       "      <td></td>\n",
       "      <td>dianhydrogalactitol</td>\n",
       "    </tr>\n",
       "    <tr>\n",
       "      <th>4</th>\n",
       "      <td>AAGFPTSOPGCENQ</td>\n",
       "      <td>BRD-K10999968|BRD-K66845263</td>\n",
       "      <td></td>\n",
       "      <td>sophocarpine</td>\n",
       "    </tr>\n",
       "  </tbody>\n",
       "</table>\n",
       "</div>"
      ],
      "text/plain": [
       "       InChIKey14            broad_id_20170327 deprecated_broad_id_20170327  \\\n",
       "0  AAALVYBICLMAMA                BRD-K13087974                                \n",
       "1  AAAQFGUYHFJNHI                BRD-K08109215                                \n",
       "2  AADCDMQTJNYOSS                BRD-K50417881                                \n",
       "3  AAFJXZWCNVJTMK                BRD-K68502831                                \n",
       "4  AAGFPTSOPGCENQ  BRD-K10999968|BRD-K66845263                                \n",
       "\n",
       "   pert_iname_20170327  \n",
       "0            CGP-52411  \n",
       "1            I-BET-762  \n",
       "2          eticlopride  \n",
       "3  dianhydrogalactitol  \n",
       "4         sophocarpine  "
      ]
     },
     "execution_count": 6,
     "metadata": {},
     "output_type": "execute_result"
    },
    {
     "data": {
      "application/javascript": [
       "\n",
       "            setTimeout(function() {\n",
       "                var nbb_cell_id = 6;\n",
       "                var nbb_unformatted_code = \"samples_2017 = group_by_InChIKey14(samples_2017, \\\"20170327\\\")\\nsamples_2018a = group_by_InChIKey14(samples_2018a, \\\"20180516\\\")\\nsamples_2018b = group_by_InChIKey14(samples_2018b, \\\"20180907\\\")\\nsamples_2020 = group_by_InChIKey14(samples_2020, \\\"20200324\\\")\\n\\nsamples_2017.head()\";\n",
       "                var nbb_formatted_code = \"samples_2017 = group_by_InChIKey14(samples_2017, \\\"20170327\\\")\\nsamples_2018a = group_by_InChIKey14(samples_2018a, \\\"20180516\\\")\\nsamples_2018b = group_by_InChIKey14(samples_2018b, \\\"20180907\\\")\\nsamples_2020 = group_by_InChIKey14(samples_2020, \\\"20200324\\\")\\n\\nsamples_2017.head()\";\n",
       "                var nbb_cells = Jupyter.notebook.get_cells();\n",
       "                for (var i = 0; i < nbb_cells.length; ++i) {\n",
       "                    if (nbb_cells[i].input_prompt_number == nbb_cell_id) {\n",
       "                        if (nbb_cells[i].get_text() == nbb_unformatted_code) {\n",
       "                             nbb_cells[i].set_text(nbb_formatted_code);\n",
       "                        }\n",
       "                        break;\n",
       "                    }\n",
       "                }\n",
       "            }, 500);\n",
       "            "
      ],
      "text/plain": [
       "<IPython.core.display.Javascript object>"
      ]
     },
     "metadata": {},
     "output_type": "display_data"
    }
   ],
   "source": [
    "samples_2017 = group_by_InChIKey14(samples_2017, \"20170327\")\n",
    "samples_2018a = group_by_InChIKey14(samples_2018a, \"20180516\")\n",
    "samples_2018b = group_by_InChIKey14(samples_2018b, \"20180907\")\n",
    "samples_2020 = group_by_InChIKey14(samples_2020, \"20200324\")\n",
    "\n",
    "samples_2017.head()"
   ]
  },
  {
   "cell_type": "markdown",
   "metadata": {
    "pycharm": {
     "name": "#%% md\n"
    }
   },
   "source": [
    "The four data frames are merged on InChIKey14"
   ]
  },
  {
   "cell_type": "code",
   "execution_count": 7,
   "metadata": {
    "pycharm": {
     "name": "#%%\n"
    }
   },
   "outputs": [
    {
     "data": {
      "text/html": [
       "<div>\n",
       "<style scoped>\n",
       "    .dataframe tbody tr th:only-of-type {\n",
       "        vertical-align: middle;\n",
       "    }\n",
       "\n",
       "    .dataframe tbody tr th {\n",
       "        vertical-align: top;\n",
       "    }\n",
       "\n",
       "    .dataframe thead th {\n",
       "        text-align: right;\n",
       "    }\n",
       "</style>\n",
       "<table border=\"1\" class=\"dataframe\">\n",
       "  <thead>\n",
       "    <tr style=\"text-align: right;\">\n",
       "      <th></th>\n",
       "      <th>InChIKey14</th>\n",
       "      <th>broad_id_20170327</th>\n",
       "      <th>deprecated_broad_id_20170327</th>\n",
       "      <th>pert_iname_20170327</th>\n",
       "      <th>broad_id_20180516</th>\n",
       "      <th>deprecated_broad_id_20180516</th>\n",
       "      <th>pert_iname_20180516</th>\n",
       "      <th>broad_id_20180907</th>\n",
       "      <th>deprecated_broad_id_20180907</th>\n",
       "      <th>pert_iname_20180907</th>\n",
       "      <th>broad_id_20200324</th>\n",
       "      <th>deprecated_broad_id_20200324</th>\n",
       "      <th>pert_iname_20200324</th>\n",
       "    </tr>\n",
       "  </thead>\n",
       "  <tbody>\n",
       "    <tr>\n",
       "      <th>0</th>\n",
       "      <td>AAALVYBICLMAMA</td>\n",
       "      <td>BRD-K13087974</td>\n",
       "      <td>NaN</td>\n",
       "      <td>CGP-52411</td>\n",
       "      <td>BRD-K13087974</td>\n",
       "      <td>NaN</td>\n",
       "      <td>CGP-52411</td>\n",
       "      <td>BRD-K13087974</td>\n",
       "      <td>NaN</td>\n",
       "      <td>CGP-52411</td>\n",
       "      <td>BRD-K13087974</td>\n",
       "      <td>NaN</td>\n",
       "      <td>CGP-52411</td>\n",
       "    </tr>\n",
       "    <tr>\n",
       "      <th>1</th>\n",
       "      <td>AAAQFGUYHFJNHI</td>\n",
       "      <td>BRD-K08109215</td>\n",
       "      <td>NaN</td>\n",
       "      <td>I-BET-762</td>\n",
       "      <td>BRD-K08109215</td>\n",
       "      <td>NaN</td>\n",
       "      <td>I-BET-762</td>\n",
       "      <td>BRD-K08109215</td>\n",
       "      <td>NaN</td>\n",
       "      <td>I-BET-762</td>\n",
       "      <td>BRD-K08109215</td>\n",
       "      <td>NaN</td>\n",
       "      <td>I-BET-762</td>\n",
       "    </tr>\n",
       "    <tr>\n",
       "      <th>2</th>\n",
       "      <td>AADCDMQTJNYOSS</td>\n",
       "      <td>BRD-K50417881</td>\n",
       "      <td>NaN</td>\n",
       "      <td>eticlopride</td>\n",
       "      <td>BRD-K50417881</td>\n",
       "      <td>NaN</td>\n",
       "      <td>eticlopride</td>\n",
       "      <td>BRD-K50417881</td>\n",
       "      <td>NaN</td>\n",
       "      <td>eticlopride</td>\n",
       "      <td>BRD-K50417881</td>\n",
       "      <td>NaN</td>\n",
       "      <td>eticlopride</td>\n",
       "    </tr>\n",
       "    <tr>\n",
       "      <th>3</th>\n",
       "      <td>AAFJXZWCNVJTMK</td>\n",
       "      <td>BRD-K68502831</td>\n",
       "      <td>NaN</td>\n",
       "      <td>dianhydrogalactitol</td>\n",
       "      <td>BRD-K68502831</td>\n",
       "      <td>NaN</td>\n",
       "      <td>dianhydrogalactitol</td>\n",
       "      <td>BRD-K68502831</td>\n",
       "      <td>NaN</td>\n",
       "      <td>dianhydrogalactitol</td>\n",
       "      <td>BRD-K68502831</td>\n",
       "      <td>NaN</td>\n",
       "      <td>dianhydrogalactitol</td>\n",
       "    </tr>\n",
       "    <tr>\n",
       "      <th>4</th>\n",
       "      <td>AAGFPTSOPGCENQ</td>\n",
       "      <td>BRD-K10999968|BRD-K66845263</td>\n",
       "      <td>NaN</td>\n",
       "      <td>sophocarpine</td>\n",
       "      <td>BRD-K10999968|BRD-K66845263</td>\n",
       "      <td>NaN</td>\n",
       "      <td>sophocarpine</td>\n",
       "      <td>BRD-K66845263</td>\n",
       "      <td>BRD-K10999968-001-01-4</td>\n",
       "      <td>sophocarpine</td>\n",
       "      <td>BRD-K66845263</td>\n",
       "      <td>BRD-K10999968-001-01-4</td>\n",
       "      <td>sophocarpine</td>\n",
       "    </tr>\n",
       "  </tbody>\n",
       "</table>\n",
       "</div>"
      ],
      "text/plain": [
       "       InChIKey14            broad_id_20170327  deprecated_broad_id_20170327  \\\n",
       "0  AAALVYBICLMAMA                BRD-K13087974                           NaN   \n",
       "1  AAAQFGUYHFJNHI                BRD-K08109215                           NaN   \n",
       "2  AADCDMQTJNYOSS                BRD-K50417881                           NaN   \n",
       "3  AAFJXZWCNVJTMK                BRD-K68502831                           NaN   \n",
       "4  AAGFPTSOPGCENQ  BRD-K10999968|BRD-K66845263                           NaN   \n",
       "\n",
       "   pert_iname_20170327            broad_id_20180516  \\\n",
       "0            CGP-52411                BRD-K13087974   \n",
       "1            I-BET-762                BRD-K08109215   \n",
       "2          eticlopride                BRD-K50417881   \n",
       "3  dianhydrogalactitol                BRD-K68502831   \n",
       "4         sophocarpine  BRD-K10999968|BRD-K66845263   \n",
       "\n",
       "  deprecated_broad_id_20180516  pert_iname_20180516 broad_id_20180907  \\\n",
       "0                          NaN            CGP-52411     BRD-K13087974   \n",
       "1                          NaN            I-BET-762     BRD-K08109215   \n",
       "2                          NaN          eticlopride     BRD-K50417881   \n",
       "3                          NaN  dianhydrogalactitol     BRD-K68502831   \n",
       "4                          NaN         sophocarpine     BRD-K66845263   \n",
       "\n",
       "  deprecated_broad_id_20180907  pert_iname_20180907 broad_id_20200324  \\\n",
       "0                          NaN            CGP-52411     BRD-K13087974   \n",
       "1                          NaN            I-BET-762     BRD-K08109215   \n",
       "2                          NaN          eticlopride     BRD-K50417881   \n",
       "3                          NaN  dianhydrogalactitol     BRD-K68502831   \n",
       "4       BRD-K10999968-001-01-4         sophocarpine     BRD-K66845263   \n",
       "\n",
       "  deprecated_broad_id_20200324  pert_iname_20200324  \n",
       "0                          NaN            CGP-52411  \n",
       "1                          NaN            I-BET-762  \n",
       "2                          NaN          eticlopride  \n",
       "3                          NaN  dianhydrogalactitol  \n",
       "4       BRD-K10999968-001-01-4         sophocarpine  "
      ]
     },
     "execution_count": 7,
     "metadata": {},
     "output_type": "execute_result"
    },
    {
     "data": {
      "application/javascript": [
       "\n",
       "            setTimeout(function() {\n",
       "                var nbb_cell_id = 7;\n",
       "                var nbb_unformatted_code = \"merged_list = (\\n    samples_2017.merge(samples_2018a, on='InChIKey14', how='outer')\\n    .merge(samples_2018b, on='InChIKey14', how='outer')\\n    .merge(samples_2020, on='InChIKey14', how='outer')\\n    .replace(to_replace='', value=np.nan)\\n)\\n\\nmerged_list.head()\";\n",
       "                var nbb_formatted_code = \"merged_list = (\\n    samples_2017.merge(samples_2018a, on=\\\"InChIKey14\\\", how=\\\"outer\\\")\\n    .merge(samples_2018b, on=\\\"InChIKey14\\\", how=\\\"outer\\\")\\n    .merge(samples_2020, on=\\\"InChIKey14\\\", how=\\\"outer\\\")\\n    .replace(to_replace=\\\"\\\", value=np.nan)\\n)\\n\\nmerged_list.head()\";\n",
       "                var nbb_cells = Jupyter.notebook.get_cells();\n",
       "                for (var i = 0; i < nbb_cells.length; ++i) {\n",
       "                    if (nbb_cells[i].input_prompt_number == nbb_cell_id) {\n",
       "                        if (nbb_cells[i].get_text() == nbb_unformatted_code) {\n",
       "                             nbb_cells[i].set_text(nbb_formatted_code);\n",
       "                        }\n",
       "                        break;\n",
       "                    }\n",
       "                }\n",
       "            }, 500);\n",
       "            "
      ],
      "text/plain": [
       "<IPython.core.display.Javascript object>"
      ]
     },
     "metadata": {},
     "output_type": "display_data"
    }
   ],
   "source": [
    "merged_list = (\n",
    "    samples_2017.merge(samples_2018a, on=\"InChIKey14\", how=\"outer\")\n",
    "    .merge(samples_2018b, on=\"InChIKey14\", how=\"outer\")\n",
    "    .merge(samples_2020, on=\"InChIKey14\", how=\"outer\")\n",
    "    .replace(to_replace=\"\", value=np.nan)\n",
    ")\n",
    "\n",
    "merged_list.head()"
   ]
  },
  {
   "cell_type": "code",
   "execution_count": 8,
   "metadata": {
    "pycharm": {
     "name": "#%%\n"
    }
   },
   "outputs": [
    {
     "name": "stdout",
     "output_type": "stream",
     "text": [
      "(6959, 13)\n"
     ]
    },
    {
     "data": {
      "application/javascript": [
       "\n",
       "            setTimeout(function() {\n",
       "                var nbb_cell_id = 8;\n",
       "                var nbb_unformatted_code = \"print(merged_list.shape)\";\n",
       "                var nbb_formatted_code = \"print(merged_list.shape)\";\n",
       "                var nbb_cells = Jupyter.notebook.get_cells();\n",
       "                for (var i = 0; i < nbb_cells.length; ++i) {\n",
       "                    if (nbb_cells[i].input_prompt_number == nbb_cell_id) {\n",
       "                        if (nbb_cells[i].get_text() == nbb_unformatted_code) {\n",
       "                             nbb_cells[i].set_text(nbb_formatted_code);\n",
       "                        }\n",
       "                        break;\n",
       "                    }\n",
       "                }\n",
       "            }, 500);\n",
       "            "
      ],
      "text/plain": [
       "<IPython.core.display.Javascript object>"
      ]
     },
     "metadata": {},
     "output_type": "display_data"
    }
   ],
   "source": [
    "print(merged_list.shape)"
   ]
  },
  {
   "cell_type": "code",
   "execution_count": 9,
   "metadata": {
    "pycharm": {
     "name": "#%%\n"
    }
   },
   "outputs": [
    {
     "data": {
      "application/javascript": [
       "\n",
       "            setTimeout(function() {\n",
       "                var nbb_cell_id = 9;\n",
       "                var nbb_unformatted_code = \"map_file = os.path.join('clue', 'broad_id_map.csv')\\nmerged_list.to_csv(map_file, index=False)\";\n",
       "                var nbb_formatted_code = \"map_file = os.path.join(\\\"clue\\\", \\\"broad_id_map.csv\\\")\\nmerged_list.to_csv(map_file, index=False)\";\n",
       "                var nbb_cells = Jupyter.notebook.get_cells();\n",
       "                for (var i = 0; i < nbb_cells.length; ++i) {\n",
       "                    if (nbb_cells[i].input_prompt_number == nbb_cell_id) {\n",
       "                        if (nbb_cells[i].get_text() == nbb_unformatted_code) {\n",
       "                             nbb_cells[i].set_text(nbb_formatted_code);\n",
       "                        }\n",
       "                        break;\n",
       "                    }\n",
       "                }\n",
       "            }, 500);\n",
       "            "
      ],
      "text/plain": [
       "<IPython.core.display.Javascript object>"
      ]
     },
     "metadata": {},
     "output_type": "display_data"
    }
   ],
   "source": [
    "map_file = os.path.join('clue', 'broad_id_map.csv')\n",
    "merged_list.to_csv(map_file, index=False)\n",
    "\n",
    "\n",
    "\n"
   ]
  }
 ],
 "metadata": {
  "kernelspec": {
   "display_name": "PyCharm (jump-cellpainting)",
   "language": "python",
   "name": "pycharm-c3da358c"
  },
  "language_info": {
   "codemirror_mode": {
    "name": "ipython",
    "version": 3
   },
   "file_extension": ".py",
   "mimetype": "text/x-python",
   "name": "python",
   "nbconvert_exporter": "python",
   "pygments_lexer": "ipython3",
   "version": "3.7.3"
  }
 },
 "nbformat": 4,
 "nbformat_minor": 1
}