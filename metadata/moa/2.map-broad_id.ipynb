{
 "cells": [
  {
   "cell_type": "code",
   "execution_count": 1,
   "metadata": {
    "collapsed": true
   },
   "outputs": [],
   "source": [
    "import pandas as pd\n",
    "import numpy as np"
   ]
  },
  {
   "cell_type": "markdown",
   "source": [
    "Samples and Drugs files from each version of the repurposing hub are read"
   ],
   "metadata": {
    "collapsed": false,
    "pycharm": {
     "name": "#%% md\n"
    }
   }
  },
  {
   "cell_type": "code",
   "execution_count": 2,
   "outputs": [],
   "source": [
    "repurposing_samples_2017 = pd.read_csv('clue/repurposing_samples_20170327.txt',usecols=['broad_id','pert_iname','InChIKey'],delimiter='\\t', comment='!', encoding='iso-8859-1')\n",
    "drugs_2017 = pd.read_csv('clue/repurposing_drugs_20170327.txt', usecols=['pert_iname','moa','target'], delimiter='\\t', comment='!', encoding='iso-8859-1')\n",
    "repurposing_samples_2018a = pd.read_csv('clue/repurposing_samples_20180516.txt', usecols=['broad_id','pert_iname','InChIKey','deprecated_broad_id'], delimiter='\\t', comment='!', encoding='iso-8859-1')\n",
    "drugs_2018a = pd.read_csv('clue/repurposing_drugs_20180516.txt', usecols=['pert_iname','moa','target'], delimiter='\\t', comment='!', encoding='iso-8859-1')\n",
    "repurposing_samples_2018b = pd.read_csv('clue/repurposing_samples_20180907.txt', usecols=['broad_id','pert_iname','InChIKey','deprecated_broad_id'], delimiter='\\t', comment='!', encoding='iso-8859-1')\n",
    "drugs_2018b = pd.read_csv('clue/repurposing_drugs_20180907.txt', usecols=['pert_iname','moa','target'], delimiter='\\t', comment='!', encoding='iso-8859-1')\n",
    "repurposing_samples_2020 = pd.read_csv('clue/repurposing_samples_20200324.txt', usecols=['broad_id','pert_iname','InChIKey','deprecated_broad_id'], delimiter='\\t', comment='!', encoding='iso-8859-1')\n",
    "drugs_2020 = pd.read_csv('clue/repurposing_drugs_20200324.txt', usecols=['pert_iname','moa','target'], delimiter='\\t', comment='!', encoding='iso-8859-1')"
   ],
   "metadata": {
    "collapsed": false,
    "pycharm": {
     "name": "#%%\n"
    }
   }
  },
  {
   "cell_type": "code",
   "execution_count": 3,
   "outputs": [],
   "source": [
    "repurposing_samples_2017.dropna(subset=['InChIKey'], inplace=True)\n",
    "repurposing_samples_2018a.dropna(subset=['InChIKey'], inplace=True)\n",
    "repurposing_samples_2018b.dropna(subset=['InChIKey'], inplace=True)\n",
    "repurposing_samples_2020.dropna(subset=['InChIKey'], inplace=True)\n",
    "\n",
    "# 2017 version is missing deprecated_broad_id\n",
    "repurposing_samples_2017['deprecated_broad_id'] = np.nan"
   ],
   "metadata": {
    "collapsed": false,
    "pycharm": {
     "name": "#%%\n"
    }
   }
  },
  {
   "cell_type": "code",
   "execution_count": 4,
   "outputs": [],
   "source": [
    "samples_2017 = repurposing_samples_2017.loc[:,['broad_id','pert_iname','InChIKey']]\n",
    "deprecated_2017 = repurposing_samples_2017.loc[:,['deprecated_broad_id','pert_iname','InChIKey']]\n",
    "samples_2018a = repurposing_samples_2018a.loc[:,['broad_id','pert_iname','InChIKey']]\n",
    "deprecated_2018a = repurposing_samples_2018a.loc[:,['deprecated_broad_id','pert_iname','InChIKey']]\n",
    "samples_2018b = repurposing_samples_2018b.loc[:,['broad_id','pert_iname','InChIKey']]\n",
    "deprecated_2018b = repurposing_samples_2018b.loc[:,['deprecated_broad_id','pert_iname','InChIKey']]\n",
    "samples_2020 = repurposing_samples_2020.loc[:,['broad_id','pert_iname','InChIKey']]\n",
    "deprecated_2020 = repurposing_samples_2020.loc[:,['deprecated_broad_id','pert_iname','InChIKey']]"
   ],
   "metadata": {
    "collapsed": false,
    "pycharm": {
     "name": "#%%\n"
    }
   }
  },
  {
   "cell_type": "code",
   "execution_count": 5,
   "outputs": [],
   "source": [
    "# Merge broad_id and deprecated_broad_id\n",
    "\n",
    "def merge_broad_dep_id(samples,deprecated):\n",
    "    deprecated.dropna(subset=['deprecated_broad_id'], inplace=True)\n",
    "    deprecated.rename(columns={'deprecated_broad_id':'broad_id'}, inplace=True)\n",
    "    samples = samples.append(deprecated, sort=False, ignore_index=True)\n",
    "    return samples\n",
    "\n",
    "# Maps the samples to their moa and target annotations\n",
    "\n",
    "def target_annotation(samples, drugs):\n",
    "    samples = samples.merge(drugs, on='pert_iname', how='left')\n",
    "    return samples\n",
    "\n",
    "# The first 13 characters of the Broad ID and the first 14 characters of InChIKey are extracted\n",
    "# Year names are appended to column names\n",
    "\n",
    "def id_cleanup(df, year):\n",
    "    df.broad_id = df.broad_id.apply(lambda x: str(x)[:13])\n",
    "    df.InChIKey = df.InChIKey.apply(lambda x: str(x)[:14])\n",
    "    df = df.drop_duplicates(['InChIKey','pert_iname','broad_id']).reset_index(drop=True)\n",
    "    df = df.rename(columns={'pert_iname':'pert_iname_'+year,\n",
    "                            'broad_id':'broad_id_'+year,\n",
    "                            'InChIKey':'InChIKey14',\n",
    "                            'moa':'moa_'+year,\n",
    "                            'target':'target_'+year})\n",
    "    return df\n",
    "\n",
    "# Grouping samples using InChIKey14 while all other fields are pipe delimited\n",
    "\n",
    "def group_by_InChIKey14(df, year):\n",
    "    df = df.fillna('')\n",
    "    df = df.groupby('InChIKey14').agg({'broad_id_'+year : lambda x: '|'.join(np.unique(x)),\n",
    "                                       'pert_iname_'+year: lambda x: '|'.join(np.unique(x)),\n",
    "                                       'moa_'+year : lambda x: merge_target(list(x)),\n",
    "                                       'target_'+year: lambda x: merge_target(list(x))}).reset_index()\n",
    "    return df\n",
    "\n",
    "# This function deplicates target annotations and the final list is pipe delimited\n",
    "\n",
    "def merge_target(target):\n",
    "    out_target = '|'.join(np.unique(('|'.join(target)).split('|')))\n",
    "    return out_target"
   ],
   "metadata": {
    "collapsed": false,
    "pycharm": {
     "name": "#%%\n"
    }
   }
  },
  {
   "cell_type": "code",
   "execution_count": 6,
   "outputs": [],
   "source": [
    "samples_2017 = merge_broad_dep_id(samples_2017, deprecated_2017)\n",
    "samples_2018a = merge_broad_dep_id(samples_2018a, deprecated_2018a)\n",
    "samples_2018b = merge_broad_dep_id(samples_2018b, deprecated_2018b)\n",
    "samples_2020 = merge_broad_dep_id(samples_2020, deprecated_2020)"
   ],
   "metadata": {
    "collapsed": false,
    "pycharm": {
     "name": "#%%\n"
    }
   }
  },
  {
   "cell_type": "code",
   "execution_count": 7,
   "outputs": [
    {
     "data": {
      "text/plain": "                 broad_id                                         pert_iname  \\\n0  BRD-A37752546-001-01-9  (1E)-1-(2-hydroxy-5-methylphenyl)-1-dodecanone...   \n1  BRD-K89787693-001-01-1                       [sar9,met(o2)11]-substance-p   \n2  BRD-K88956297-003-01-9  1-((Z)-3-Chloroallyl)-1,3,5,7-tetraazaadamanta...   \n3  BRD-A86415025-050-01-0              1-(1,2-Diphenylethyl)piperidine-(+/-)   \n4  BRD-A95802703-001-01-0  1-(2-chloro-5-methylphenoxy)-3-(isopropylamino...   \n\n                      InChIKey  moa target  \n0  NFONIVRMILHYLH-UHFFFAOYSA-N  NaN    NaN  \n1  OUPXSLGGCPUZJJ-SARDKLJWSA-N  NaN    NaN  \n2  LDLCEGCJYSDJLX-UPHRSURJSA-N  NaN    NaN  \n3  JQWJJJYHVHNXJH-UHFFFAOYSA-N  NaN    NaN  \n4  NJEIOWSBPCZKTL-UHFFFAOYSA-N  NaN    NaN  ",
      "text/html": "<div>\n<style scoped>\n    .dataframe tbody tr th:only-of-type {\n        vertical-align: middle;\n    }\n\n    .dataframe tbody tr th {\n        vertical-align: top;\n    }\n\n    .dataframe thead th {\n        text-align: right;\n    }\n</style>\n<table border=\"1\" class=\"dataframe\">\n  <thead>\n    <tr style=\"text-align: right;\">\n      <th></th>\n      <th>broad_id</th>\n      <th>pert_iname</th>\n      <th>InChIKey</th>\n      <th>moa</th>\n      <th>target</th>\n    </tr>\n  </thead>\n  <tbody>\n    <tr>\n      <th>0</th>\n      <td>BRD-A37752546-001-01-9</td>\n      <td>(1E)-1-(2-hydroxy-5-methylphenyl)-1-dodecanone...</td>\n      <td>NFONIVRMILHYLH-UHFFFAOYSA-N</td>\n      <td>NaN</td>\n      <td>NaN</td>\n    </tr>\n    <tr>\n      <th>1</th>\n      <td>BRD-K89787693-001-01-1</td>\n      <td>[sar9,met(o2)11]-substance-p</td>\n      <td>OUPXSLGGCPUZJJ-SARDKLJWSA-N</td>\n      <td>NaN</td>\n      <td>NaN</td>\n    </tr>\n    <tr>\n      <th>2</th>\n      <td>BRD-K88956297-003-01-9</td>\n      <td>1-((Z)-3-Chloroallyl)-1,3,5,7-tetraazaadamanta...</td>\n      <td>LDLCEGCJYSDJLX-UPHRSURJSA-N</td>\n      <td>NaN</td>\n      <td>NaN</td>\n    </tr>\n    <tr>\n      <th>3</th>\n      <td>BRD-A86415025-050-01-0</td>\n      <td>1-(1,2-Diphenylethyl)piperidine-(+/-)</td>\n      <td>JQWJJJYHVHNXJH-UHFFFAOYSA-N</td>\n      <td>NaN</td>\n      <td>NaN</td>\n    </tr>\n    <tr>\n      <th>4</th>\n      <td>BRD-A95802703-001-01-0</td>\n      <td>1-(2-chloro-5-methylphenoxy)-3-(isopropylamino...</td>\n      <td>NJEIOWSBPCZKTL-UHFFFAOYSA-N</td>\n      <td>NaN</td>\n      <td>NaN</td>\n    </tr>\n  </tbody>\n</table>\n</div>"
     },
     "execution_count": 7,
     "metadata": {},
     "output_type": "execute_result"
    }
   ],
   "source": [
    "samples_2017 = target_annotation(samples_2017, drugs_2017)\n",
    "samples_2018a = target_annotation(samples_2018a, drugs_2018a)\n",
    "samples_2018b = target_annotation(samples_2018b, drugs_2018b)\n",
    "samples_2020 = target_annotation(samples_2020, drugs_2020)\n",
    "\n",
    "samples_2017.head()"
   ],
   "metadata": {
    "collapsed": false,
    "pycharm": {
     "name": "#%%\n"
    }
   }
  },
  {
   "cell_type": "code",
   "execution_count": 8,
   "outputs": [
    {
     "data": {
      "text/plain": "   broad_id_2017                                    pert_iname_2017  \\\n0  BRD-A37752546  (1E)-1-(2-hydroxy-5-methylphenyl)-1-dodecanone...   \n1  BRD-K89787693                       [sar9,met(o2)11]-substance-p   \n2  BRD-K88956297  1-((Z)-3-Chloroallyl)-1,3,5,7-tetraazaadamanta...   \n3  BRD-A86415025              1-(1,2-Diphenylethyl)piperidine-(+/-)   \n4  BRD-A95802703  1-(2-chloro-5-methylphenoxy)-3-(isopropylamino...   \n\n       InChIKey14 moa_2017 target_2017  \n0  NFONIVRMILHYLH      NaN         NaN  \n1  OUPXSLGGCPUZJJ      NaN         NaN  \n2  LDLCEGCJYSDJLX      NaN         NaN  \n3  JQWJJJYHVHNXJH      NaN         NaN  \n4  NJEIOWSBPCZKTL      NaN         NaN  ",
      "text/html": "<div>\n<style scoped>\n    .dataframe tbody tr th:only-of-type {\n        vertical-align: middle;\n    }\n\n    .dataframe tbody tr th {\n        vertical-align: top;\n    }\n\n    .dataframe thead th {\n        text-align: right;\n    }\n</style>\n<table border=\"1\" class=\"dataframe\">\n  <thead>\n    <tr style=\"text-align: right;\">\n      <th></th>\n      <th>broad_id_2017</th>\n      <th>pert_iname_2017</th>\n      <th>InChIKey14</th>\n      <th>moa_2017</th>\n      <th>target_2017</th>\n    </tr>\n  </thead>\n  <tbody>\n    <tr>\n      <th>0</th>\n      <td>BRD-A37752546</td>\n      <td>(1E)-1-(2-hydroxy-5-methylphenyl)-1-dodecanone...</td>\n      <td>NFONIVRMILHYLH</td>\n      <td>NaN</td>\n      <td>NaN</td>\n    </tr>\n    <tr>\n      <th>1</th>\n      <td>BRD-K89787693</td>\n      <td>[sar9,met(o2)11]-substance-p</td>\n      <td>OUPXSLGGCPUZJJ</td>\n      <td>NaN</td>\n      <td>NaN</td>\n    </tr>\n    <tr>\n      <th>2</th>\n      <td>BRD-K88956297</td>\n      <td>1-((Z)-3-Chloroallyl)-1,3,5,7-tetraazaadamanta...</td>\n      <td>LDLCEGCJYSDJLX</td>\n      <td>NaN</td>\n      <td>NaN</td>\n    </tr>\n    <tr>\n      <th>3</th>\n      <td>BRD-A86415025</td>\n      <td>1-(1,2-Diphenylethyl)piperidine-(+/-)</td>\n      <td>JQWJJJYHVHNXJH</td>\n      <td>NaN</td>\n      <td>NaN</td>\n    </tr>\n    <tr>\n      <th>4</th>\n      <td>BRD-A95802703</td>\n      <td>1-(2-chloro-5-methylphenoxy)-3-(isopropylamino...</td>\n      <td>NJEIOWSBPCZKTL</td>\n      <td>NaN</td>\n      <td>NaN</td>\n    </tr>\n  </tbody>\n</table>\n</div>"
     },
     "execution_count": 8,
     "metadata": {},
     "output_type": "execute_result"
    }
   ],
   "source": [
    "samples_2017 = id_cleanup(samples_2017, \"2017\")\n",
    "samples_2018a = id_cleanup(samples_2018a, \"2018a\")\n",
    "samples_2018b = id_cleanup(samples_2018b, \"2018b\")\n",
    "samples_2020 = id_cleanup(samples_2020, \"2020\")\n",
    "\n",
    "samples_2017.head()"
   ],
   "metadata": {
    "collapsed": false,
    "pycharm": {
     "name": "#%%\n"
    }
   }
  },
  {
   "cell_type": "code",
   "execution_count": 9,
   "outputs": [
    {
     "data": {
      "text/plain": "       InChIKey14                broad_id_2017      pert_iname_2017  \\\n0  AAALVYBICLMAMA                BRD-K13087974            CGP-52411   \n1  AAAQFGUYHFJNHI                BRD-K08109215            I-BET-762   \n2  AADCDMQTJNYOSS                BRD-K50417881          eticlopride   \n3  AAFJXZWCNVJTMK                BRD-K68502831  dianhydrogalactitol   \n4  AAGFPTSOPGCENQ  BRD-K10999968|BRD-K66845263         sophocarpine   \n\n                       moa_2017     target_2017  \n0                EGFR inhibitor            EGFR  \n1         bromodomain inhibitor  BRD2|BRD3|BRD4  \n2  dopamine receptor antagonist  DRD2|DRD3|DRD4  \n3          DNA alkylating agent                  \n4                                                ",
      "text/html": "<div>\n<style scoped>\n    .dataframe tbody tr th:only-of-type {\n        vertical-align: middle;\n    }\n\n    .dataframe tbody tr th {\n        vertical-align: top;\n    }\n\n    .dataframe thead th {\n        text-align: right;\n    }\n</style>\n<table border=\"1\" class=\"dataframe\">\n  <thead>\n    <tr style=\"text-align: right;\">\n      <th></th>\n      <th>InChIKey14</th>\n      <th>broad_id_2017</th>\n      <th>pert_iname_2017</th>\n      <th>moa_2017</th>\n      <th>target_2017</th>\n    </tr>\n  </thead>\n  <tbody>\n    <tr>\n      <th>0</th>\n      <td>AAALVYBICLMAMA</td>\n      <td>BRD-K13087974</td>\n      <td>CGP-52411</td>\n      <td>EGFR inhibitor</td>\n      <td>EGFR</td>\n    </tr>\n    <tr>\n      <th>1</th>\n      <td>AAAQFGUYHFJNHI</td>\n      <td>BRD-K08109215</td>\n      <td>I-BET-762</td>\n      <td>bromodomain inhibitor</td>\n      <td>BRD2|BRD3|BRD4</td>\n    </tr>\n    <tr>\n      <th>2</th>\n      <td>AADCDMQTJNYOSS</td>\n      <td>BRD-K50417881</td>\n      <td>eticlopride</td>\n      <td>dopamine receptor antagonist</td>\n      <td>DRD2|DRD3|DRD4</td>\n    </tr>\n    <tr>\n      <th>3</th>\n      <td>AAFJXZWCNVJTMK</td>\n      <td>BRD-K68502831</td>\n      <td>dianhydrogalactitol</td>\n      <td>DNA alkylating agent</td>\n      <td></td>\n    </tr>\n    <tr>\n      <th>4</th>\n      <td>AAGFPTSOPGCENQ</td>\n      <td>BRD-K10999968|BRD-K66845263</td>\n      <td>sophocarpine</td>\n      <td></td>\n      <td></td>\n    </tr>\n  </tbody>\n</table>\n</div>"
     },
     "execution_count": 9,
     "metadata": {},
     "output_type": "execute_result"
    }
   ],
   "source": [
    "samples_2017 = group_by_InChIKey14(samples_2017, \"2017\")\n",
    "samples_2018a = group_by_InChIKey14(samples_2018a, \"2018a\")\n",
    "samples_2018b = group_by_InChIKey14(samples_2018b, \"2018b\")\n",
    "samples_2020 = group_by_InChIKey14(samples_2020, \"2020\")\n",
    "\n",
    "samples_2017.head()"
   ],
   "metadata": {
    "collapsed": false,
    "pycharm": {
     "name": "#%%\n"
    }
   }
  },
  {
   "cell_type": "markdown",
   "source": [
    "The four dataframes are merged on InChIKey14"
   ],
   "metadata": {
    "collapsed": false,
    "pycharm": {
     "name": "#%% md\n"
    }
   }
  },
  {
   "cell_type": "code",
   "execution_count": 10,
   "outputs": [
    {
     "data": {
      "text/plain": "       InChIKey14                broad_id_2017      pert_iname_2017  \\\n0  AAALVYBICLMAMA                BRD-K13087974            CGP-52411   \n1  AAAQFGUYHFJNHI                BRD-K08109215            I-BET-762   \n2  AADCDMQTJNYOSS                BRD-K50417881          eticlopride   \n3  AAFJXZWCNVJTMK                BRD-K68502831  dianhydrogalactitol   \n4  AAGFPTSOPGCENQ  BRD-K10999968|BRD-K66845263         sophocarpine   \n\n                       moa_2017     target_2017               broad_id_2018a  \\\n0                EGFR inhibitor            EGFR                BRD-K13087974   \n1         bromodomain inhibitor  BRD2|BRD3|BRD4                BRD-K08109215   \n2  dopamine receptor antagonist  DRD2|DRD3|DRD4                BRD-K50417881   \n3          DNA alkylating agent             NaN                BRD-K68502831   \n4                           NaN             NaN  BRD-K10999968|BRD-K66845263   \n\n      pert_iname_2018a                     moa_2018a    target_2018a  \\\n0            CGP-52411                EGFR inhibitor            EGFR   \n1            I-BET-762         bromodomain inhibitor  BRD2|BRD3|BRD4   \n2          eticlopride  dopamine receptor antagonist  DRD2|DRD3|DRD4   \n3  dianhydrogalactitol          DNA alkylating agent             NaN   \n4         sophocarpine                           NaN             NaN   \n\n                broad_id_2018b     pert_iname_2018b  \\\n0                BRD-K13087974            CGP-52411   \n1                BRD-K08109215            I-BET-762   \n2                BRD-K50417881          eticlopride   \n3                BRD-K68502831  dianhydrogalactitol   \n4  BRD-K10999968|BRD-K66845263         sophocarpine   \n\n                      moa_2018b    target_2018b                broad_id_2020  \\\n0                EGFR inhibitor            EGFR                BRD-K13087974   \n1         bromodomain inhibitor  BRD2|BRD3|BRD4                BRD-K08109215   \n2  dopamine receptor antagonist  DRD2|DRD3|DRD4                BRD-K50417881   \n3          DNA alkylating agent             NaN                BRD-K68502831   \n4                           NaN             NaN  BRD-K10999968|BRD-K66845263   \n\n       pert_iname_2020                      moa_2020     target_2020  \n0            CGP-52411                EGFR inhibitor            EGFR  \n1            I-BET-762         bromodomain inhibitor  BRD2|BRD3|BRD4  \n2          eticlopride  dopamine receptor antagonist  DRD2|DRD3|DRD4  \n3  dianhydrogalactitol          DNA alkylating agent             NaN  \n4         sophocarpine                           NaN             NaN  ",
      "text/html": "<div>\n<style scoped>\n    .dataframe tbody tr th:only-of-type {\n        vertical-align: middle;\n    }\n\n    .dataframe tbody tr th {\n        vertical-align: top;\n    }\n\n    .dataframe thead th {\n        text-align: right;\n    }\n</style>\n<table border=\"1\" class=\"dataframe\">\n  <thead>\n    <tr style=\"text-align: right;\">\n      <th></th>\n      <th>InChIKey14</th>\n      <th>broad_id_2017</th>\n      <th>pert_iname_2017</th>\n      <th>moa_2017</th>\n      <th>target_2017</th>\n      <th>broad_id_2018a</th>\n      <th>pert_iname_2018a</th>\n      <th>moa_2018a</th>\n      <th>target_2018a</th>\n      <th>broad_id_2018b</th>\n      <th>pert_iname_2018b</th>\n      <th>moa_2018b</th>\n      <th>target_2018b</th>\n      <th>broad_id_2020</th>\n      <th>pert_iname_2020</th>\n      <th>moa_2020</th>\n      <th>target_2020</th>\n    </tr>\n  </thead>\n  <tbody>\n    <tr>\n      <th>0</th>\n      <td>AAALVYBICLMAMA</td>\n      <td>BRD-K13087974</td>\n      <td>CGP-52411</td>\n      <td>EGFR inhibitor</td>\n      <td>EGFR</td>\n      <td>BRD-K13087974</td>\n      <td>CGP-52411</td>\n      <td>EGFR inhibitor</td>\n      <td>EGFR</td>\n      <td>BRD-K13087974</td>\n      <td>CGP-52411</td>\n      <td>EGFR inhibitor</td>\n      <td>EGFR</td>\n      <td>BRD-K13087974</td>\n      <td>CGP-52411</td>\n      <td>EGFR inhibitor</td>\n      <td>EGFR</td>\n    </tr>\n    <tr>\n      <th>1</th>\n      <td>AAAQFGUYHFJNHI</td>\n      <td>BRD-K08109215</td>\n      <td>I-BET-762</td>\n      <td>bromodomain inhibitor</td>\n      <td>BRD2|BRD3|BRD4</td>\n      <td>BRD-K08109215</td>\n      <td>I-BET-762</td>\n      <td>bromodomain inhibitor</td>\n      <td>BRD2|BRD3|BRD4</td>\n      <td>BRD-K08109215</td>\n      <td>I-BET-762</td>\n      <td>bromodomain inhibitor</td>\n      <td>BRD2|BRD3|BRD4</td>\n      <td>BRD-K08109215</td>\n      <td>I-BET-762</td>\n      <td>bromodomain inhibitor</td>\n      <td>BRD2|BRD3|BRD4</td>\n    </tr>\n    <tr>\n      <th>2</th>\n      <td>AADCDMQTJNYOSS</td>\n      <td>BRD-K50417881</td>\n      <td>eticlopride</td>\n      <td>dopamine receptor antagonist</td>\n      <td>DRD2|DRD3|DRD4</td>\n      <td>BRD-K50417881</td>\n      <td>eticlopride</td>\n      <td>dopamine receptor antagonist</td>\n      <td>DRD2|DRD3|DRD4</td>\n      <td>BRD-K50417881</td>\n      <td>eticlopride</td>\n      <td>dopamine receptor antagonist</td>\n      <td>DRD2|DRD3|DRD4</td>\n      <td>BRD-K50417881</td>\n      <td>eticlopride</td>\n      <td>dopamine receptor antagonist</td>\n      <td>DRD2|DRD3|DRD4</td>\n    </tr>\n    <tr>\n      <th>3</th>\n      <td>AAFJXZWCNVJTMK</td>\n      <td>BRD-K68502831</td>\n      <td>dianhydrogalactitol</td>\n      <td>DNA alkylating agent</td>\n      <td>NaN</td>\n      <td>BRD-K68502831</td>\n      <td>dianhydrogalactitol</td>\n      <td>DNA alkylating agent</td>\n      <td>NaN</td>\n      <td>BRD-K68502831</td>\n      <td>dianhydrogalactitol</td>\n      <td>DNA alkylating agent</td>\n      <td>NaN</td>\n      <td>BRD-K68502831</td>\n      <td>dianhydrogalactitol</td>\n      <td>DNA alkylating agent</td>\n      <td>NaN</td>\n    </tr>\n    <tr>\n      <th>4</th>\n      <td>AAGFPTSOPGCENQ</td>\n      <td>BRD-K10999968|BRD-K66845263</td>\n      <td>sophocarpine</td>\n      <td>NaN</td>\n      <td>NaN</td>\n      <td>BRD-K10999968|BRD-K66845263</td>\n      <td>sophocarpine</td>\n      <td>NaN</td>\n      <td>NaN</td>\n      <td>BRD-K10999968|BRD-K66845263</td>\n      <td>sophocarpine</td>\n      <td>NaN</td>\n      <td>NaN</td>\n      <td>BRD-K10999968|BRD-K66845263</td>\n      <td>sophocarpine</td>\n      <td>NaN</td>\n      <td>NaN</td>\n    </tr>\n  </tbody>\n</table>\n</div>"
     },
     "execution_count": 10,
     "metadata": {},
     "output_type": "execute_result"
    }
   ],
   "source": [
    "merged_df = samples_2017.merge(samples_2018a, on='InChIKey14', how='outer')\n",
    "merged_df = merged_df.merge(samples_2018b, on='InChIKey14', how='outer')\n",
    "merged_df = merged_df.merge(samples_2020, on='InChIKey14', how='outer')\n",
    "merged_df= merged_df.replace(to_replace='', value=np.nan)\n",
    "\n",
    "merged_df.head()"
   ],
   "metadata": {
    "collapsed": false,
    "pycharm": {
     "name": "#%%\n"
    }
   }
  },
  {
   "cell_type": "code",
   "execution_count": 11,
   "outputs": [],
   "source": [
    "merged_df.to_csv('clue/broad_id_map.csv', index=False)"
   ],
   "metadata": {
    "collapsed": false,
    "pycharm": {
     "name": "#%%\n"
    }
   }
  },
  {
   "cell_type": "code",
   "execution_count": 12,
   "outputs": [
    {
     "name": "stdout",
     "output_type": "stream",
     "text": [
      "Total number of rows 7012\n"
     ]
    }
   ],
   "source": [
    "print('Total number of rows %d' % len(merged_df))"
   ],
   "metadata": {
    "collapsed": false,
    "pycharm": {
     "name": "#%%\n"
    }
   }
  },
  {
   "cell_type": "markdown",
   "source": [
    "The following compounds in the 2020 version have not been formatted correctly\n",
    "as InChI is being extracted instead of InChIKey for these compounds."
   ],
   "metadata": {
    "collapsed": false,
    "pycharm": {
     "name": "#%% md\n"
    }
   }
  },
  {
   "cell_type": "code",
   "execution_count": 13,
   "outputs": [
    {
     "name": "stdout",
     "output_type": "stream",
     "text": [
      "|      | InChIKey14     | pert_iname_2020                                          |\n",
      "|-----:|:---------------|:---------------------------------------------------------|\n",
      "| 6368 | InChI=1S/C10H7 | CHC                                                      |\n",
      "| 6369 | InChI=1S/C10H8 | mirin                                                    |\n",
      "| 6370 | InChI=1S/C11H1 | BU-239                                                   |\n",
      "| 6371 | InChI=1S/C12H6 | bithionol                                                |\n",
      "| 6372 | InChI=1S/C13H1 | pomalidomide                                             |\n",
      "| 6373 | InChI=1S/C14H1 | PD-158780                                                |\n",
      "| 6374 | InChI=1S/C14H2 | GSK-LSD-1                                                |\n",
      "| 6375 | InChI=1S/C15H1 | JNJ-7706621|belinostat                                   |\n",
      "| 6376 | InChI=1S/C15H2 | LMK-235|marimastat                                       |\n",
      "| 6377 | InChI=1S/C16H1 | oncrasin-1                                               |\n",
      "| 6378 | InChI=1S/C17H1 | GYKI-52466|ML297|PD-168393|PD-184352|VLX600              |\n",
      "| 6379 | InChI=1S/C18H2 | AZD5438|tyrphostin-A9                                    |\n",
      "| 6380 | InChI=1S/C18H3 | phytosphingosine                                         |\n",
      "| 6381 | InChI=1S/C19H1 | PF-04217903|PI-103|neuropathiazol|vismodegib             |\n",
      "| 6382 | InChI=1S/C19H2 | AT-9283|PRT062607|TC1                                    |\n",
      "| 6383 | InChI=1S/C19H3 | perhexiline                                              |\n",
      "| 6384 | InChI=1S/C20H1 | A-1120                                                   |\n",
      "| 6385 | InChI=1S/C20H2 | TC-H-106|triptolide                                      |\n",
      "| 6386 | InChI=1S/C20H3 | epoprostenol                                             |\n",
      "| 6387 | InChI=1S/C21H1 | regorafenib                                              |\n",
      "| 6388 | InChI=1S/C21H2 | dinaciclib|pevonedistat                                  |\n",
      "| 6389 | InChI=1S/C22H1 | idelalisib                                               |\n",
      "| 6390 | InChI=1S/C22H2 | I-BET-762|cinacalcet|erlotinib|tamibarotene              |\n",
      "| 6391 | InChI=1S/C22H3 | chlorhexidine                                            |\n",
      "| 6392 | InChI=1S/C23H2 | GDC-0941|LY2784544|STA-5326|amuvatinib|pralatrexate      |\n",
      "| 6393 | InChI=1S/C23H3 | TCS-OX2-29                                               |\n",
      "| 6394 | InChI=1S/C24H1 | BRD7389                                                  |\n",
      "| 6395 | InChI=1S/C24H2 | canertinib|dorsomorphin|givinostat|palbociclib|taselisib |\n",
      "| 6396 | InChI=1S/C24H3 | romidepsin                                               |\n",
      "| 6397 | InChI=1S/C25H1 | NU-7441                                                  |\n",
      "| 6398 | InChI=1S/C25H2 | GF109203X|MK-2206|ibrutinib                              |\n",
      "| 6399 | InChI=1S/C25H3 | EHop-016|PF-03758309                                     |\n",
      "| 6400 | InChI=1S/C26H2 | KX2-391|lucitanib                                        |\n",
      "| 6401 | InChI=1S/C26H3 | AZD4547|barasertib-HQPA                                  |\n",
      "| 6402 | InChI=1S/C27H2 | ML228|alisertib|epirubicin|rociletinib|tipifarnib        |\n",
      "| 6403 | InChI=1S/C27H3 | MK-1775|lonafarnib|saracatinib                           |\n",
      "| 6404 | InChI=1S/C28H2 | GNF-5837|cabozantinib                                    |\n",
      "| 6405 | InChI=1S/C28H3 | BI-2536                                                  |\n",
      "| 6406 | InChI=1S/C30H2 | ETP-46464                                                |\n",
      "| 6407 | InChI=1S/C30H3 | CEP-37440                                                |\n",
      "| 6408 | InChI=1S/C31H2 | idasanutlin                                              |\n",
      "| 6409 | InChI=1S/C31H4 | bardoxolone                                              |\n",
      "| 6410 | InChI=1S/C32H4 | bardoxolone-methyl|nelfinavir                            |\n",
      "| 6411 | InChI=1S/C34H3 | foretinib                                                |\n",
      "| 6412 | InChI=1S/C34H4 | UK-356618                                                |\n",
      "| 6413 | InChI=1S/C34H5 | volasertib                                               |\n",
      "| 6414 | InChI=1S/C36H4 | indinavir                                                |\n",
      "| 6415 | InChI=1S/C38H3 | tariquidar                                               |\n",
      "| 6416 | InChI=1S/C42H4 | ABT-737                                                  |\n",
      "| 6417 | InChI=1S/C42H5 | birinapant                                               |\n",
      "| 6418 | InChI=1S/C8H9N | paracetamol                                              |\n",
      "| 6419 | InChI=1S/C9H11 | floxuridine                                              |\n",
      "| 6420 | InChI=1S/C9H13 | cytidine                                                 |\n"
     ]
    }
   ],
   "source": [
    "print(merged_df.loc[merged_df.InChIKey14.str.startswith('InChI')][['InChIKey14','pert_iname_2020']].to_markdown())\n",
    "\n",
    "\n"
   ],
   "metadata": {
    "collapsed": false,
    "pycharm": {
     "name": "#%%\n"
    }
   }
  }
 ],
 "metadata": {
  "kernelspec": {
   "name": "pycharm-c3da358c",
   "language": "python",
   "display_name": "PyCharm (jump-cellpainting)"
  },
  "language_info": {
   "codemirror_mode": {
    "name": "ipython",
    "version": 2
   },
   "file_extension": ".py",
   "mimetype": "text/x-python",
   "name": "python",
   "nbconvert_exporter": "python",
   "pygments_lexer": "ipython2",
   "version": "2.7.6"
  }
 },
 "nbformat": 4,
 "nbformat_minor": 0
}