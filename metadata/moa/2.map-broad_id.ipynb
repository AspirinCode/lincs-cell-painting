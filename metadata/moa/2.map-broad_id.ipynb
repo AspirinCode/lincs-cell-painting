{
 "cells": [
  {
   "cell_type": "code",
   "execution_count": 1,
   "metadata": {
    "collapsed": true
   },
   "outputs": [
    {
     "name": "stderr",
     "output_type": "stream",
     "text": [
      "RDKit WARNING: [20:35:41] Enabling RDKit 2019.09.3 jupyter extensions\n"
     ]
    }
   ],
   "source": [
    "import pandas as pd\n",
    "import numpy as np\n",
    "import rdkit.Chem.inchi as inchi\n",
    "import os.path"
   ]
  },
  {
   "cell_type": "markdown",
   "source": [
    "Sample files from each version of the repurposing hub are read"
   ],
   "metadata": {
    "collapsed": false,
    "pycharm": {
     "name": "#%% md\n"
    }
   }
  },
  {
   "cell_type": "code",
   "execution_count": 2,
   "outputs": [],
   "source": [
    "cols = ['broad_id','pert_iname','InChIKey','deprecated_broad_id']\n",
    "\n",
    "samples_2017 = pd.read_csv('clue/repurposing_samples_20170327.txt',usecols=cols[:-1],delimiter='\\t', comment='!', encoding='iso-8859-1')\n",
    "samples_2018a = pd.read_csv('clue/repurposing_samples_20180516.txt', usecols=cols, delimiter='\\t', comment='!', encoding='iso-8859-1')\n",
    "samples_2018b = pd.read_csv('clue/repurposing_samples_20180907.txt', usecols=cols, delimiter='\\t', comment='!', encoding='iso-8859-1')\n",
    "samples_2020 = pd.read_csv('clue/repurposing_samples_20200324.txt', usecols=cols, delimiter='\\t', comment='!', encoding='iso-8859-1')"
   ],
   "metadata": {
    "collapsed": false,
    "pycharm": {
     "name": "#%%\n"
    }
   }
  },
  {
   "cell_type": "code",
   "execution_count": 3,
   "outputs": [],
   "source": [
    "# 2017 version is missing deprecated_broad_id\n",
    "samples_2017 = samples_2017.assign(deprecated_broad_id=np.nan)"
   ],
   "metadata": {
    "collapsed": false,
    "pycharm": {
     "name": "#%%\n"
    }
   }
  },
  {
   "cell_type": "code",
   "execution_count": 4,
   "outputs": [],
   "source": [
    "# The first 13 characters of the Broad ID and the first 14 characters of InChIKey are extracted\n",
    "# Year names are appended to column names\n",
    "# For some rows InChI are extracted instead of InChIKey -> these are fixed\n",
    "\n",
    "def id_cleanup(df, version):\n",
    "    df.dropna(subset=['InChIKey'], inplace=True)\n",
    "    df.reset_index(drop=True, inplace=True)\n",
    "    df.InChIKey = df.InChIKey.apply(lambda x: inchi.InchiToInchiKey(x) if (x.startswith('InChI')) else x)\n",
    "    df.broad_id = df.broad_id.apply(lambda x: str(x)[:13])\n",
    "    df.InChIKey = df.InChIKey.apply(lambda x: str(x)[:14])\n",
    "    df = df.drop_duplicates(['InChIKey','pert_iname','broad_id','deprecated_broad_id']).reset_index(drop=True)\n",
    "    df = df.rename(columns={'pert_iname':f'pert_iname_{version}',\n",
    "                            'broad_id':f'broad_id_{version}',\n",
    "                            'deprecated_broad_id':f'deprecated_broad_id_{version}',\n",
    "                            'InChIKey':'InChIKey14'})\n",
    "    return df\n",
    "\n",
    "# Grouping samples using InChIKey14 while all other fields are pipe delimited\n",
    "\n",
    "def group_by_InChIKey14(df, version):\n",
    "    df = df.fillna('')\n",
    "    df = df.groupby('InChIKey14').agg({f'broad_id_{version}' : lambda x: '|'.join(np.unique(x)),\n",
    "                                       f'deprecated_broad_id_{version}': lambda x: create_pipe_separated_list(list(x)),\n",
    "                                       f'pert_iname_{version}': lambda x: '|'.join(np.unique(x))}).reset_index()\n",
    "    return df\n",
    "\n",
    "# This function cleans up empty deprecated_broad_ids, de-duplicates them and then separates them with pipes\n",
    "\n",
    "def create_pipe_separated_list(target):\n",
    "    joined_target = ('|'.join(target)).split('|')\n",
    "    while '' in joined_target:\n",
    "        joined_target.remove('')\n",
    "    out_target = '|'.join(np.unique(joined_target))\n",
    "    return out_target"
   ],
   "metadata": {
    "collapsed": false,
    "pycharm": {
     "name": "#%%\n"
    }
   }
  },
  {
   "cell_type": "code",
   "execution_count": 5,
   "outputs": [
    {
     "data": {
      "text/plain": "  broad_id_20170327                                pert_iname_20170327  \\\n0     BRD-A37752546  (1E)-1-(2-hydroxy-5-methylphenyl)-1-dodecanone...   \n1     BRD-K89787693                       [sar9,met(o2)11]-substance-p   \n2     BRD-K88956297  1-((Z)-3-Chloroallyl)-1,3,5,7-tetraazaadamanta...   \n3     BRD-A86415025              1-(1,2-Diphenylethyl)piperidine-(+/-)   \n4     BRD-A95802703  1-(2-chloro-5-methylphenoxy)-3-(isopropylamino...   \n\n       InChIKey14  deprecated_broad_id_20170327  \n0  NFONIVRMILHYLH                           NaN  \n1  OUPXSLGGCPUZJJ                           NaN  \n2  LDLCEGCJYSDJLX                           NaN  \n3  JQWJJJYHVHNXJH                           NaN  \n4  NJEIOWSBPCZKTL                           NaN  ",
      "text/html": "<div>\n<style scoped>\n    .dataframe tbody tr th:only-of-type {\n        vertical-align: middle;\n    }\n\n    .dataframe tbody tr th {\n        vertical-align: top;\n    }\n\n    .dataframe thead th {\n        text-align: right;\n    }\n</style>\n<table border=\"1\" class=\"dataframe\">\n  <thead>\n    <tr style=\"text-align: right;\">\n      <th></th>\n      <th>broad_id_20170327</th>\n      <th>pert_iname_20170327</th>\n      <th>InChIKey14</th>\n      <th>deprecated_broad_id_20170327</th>\n    </tr>\n  </thead>\n  <tbody>\n    <tr>\n      <th>0</th>\n      <td>BRD-A37752546</td>\n      <td>(1E)-1-(2-hydroxy-5-methylphenyl)-1-dodecanone...</td>\n      <td>NFONIVRMILHYLH</td>\n      <td>NaN</td>\n    </tr>\n    <tr>\n      <th>1</th>\n      <td>BRD-K89787693</td>\n      <td>[sar9,met(o2)11]-substance-p</td>\n      <td>OUPXSLGGCPUZJJ</td>\n      <td>NaN</td>\n    </tr>\n    <tr>\n      <th>2</th>\n      <td>BRD-K88956297</td>\n      <td>1-((Z)-3-Chloroallyl)-1,3,5,7-tetraazaadamanta...</td>\n      <td>LDLCEGCJYSDJLX</td>\n      <td>NaN</td>\n    </tr>\n    <tr>\n      <th>3</th>\n      <td>BRD-A86415025</td>\n      <td>1-(1,2-Diphenylethyl)piperidine-(+/-)</td>\n      <td>JQWJJJYHVHNXJH</td>\n      <td>NaN</td>\n    </tr>\n    <tr>\n      <th>4</th>\n      <td>BRD-A95802703</td>\n      <td>1-(2-chloro-5-methylphenoxy)-3-(isopropylamino...</td>\n      <td>NJEIOWSBPCZKTL</td>\n      <td>NaN</td>\n    </tr>\n  </tbody>\n</table>\n</div>"
     },
     "execution_count": 5,
     "metadata": {},
     "output_type": "execute_result"
    }
   ],
   "source": [
    "samples_2017 = id_cleanup(samples_2017, \"20170327\")\n",
    "samples_2018a = id_cleanup(samples_2018a, \"20180516\")\n",
    "samples_2018b = id_cleanup(samples_2018b, \"20180907\")\n",
    "samples_2020 = id_cleanup(samples_2020, \"20200324\")\n",
    "\n",
    "samples_2017.head()"
   ],
   "metadata": {
    "collapsed": false,
    "pycharm": {
     "name": "#%%\n"
    }
   }
  },
  {
   "cell_type": "code",
   "execution_count": 6,
   "outputs": [
    {
     "data": {
      "text/plain": "       InChIKey14            broad_id_20170327 deprecated_broad_id_20170327  \\\n0  AAALVYBICLMAMA                BRD-K13087974                                \n1  AAAQFGUYHFJNHI                BRD-K08109215                                \n2  AADCDMQTJNYOSS                BRD-K50417881                                \n3  AAFJXZWCNVJTMK                BRD-K68502831                                \n4  AAGFPTSOPGCENQ  BRD-K10999968|BRD-K66845263                                \n\n   pert_iname_20170327  \n0            CGP-52411  \n1            I-BET-762  \n2          eticlopride  \n3  dianhydrogalactitol  \n4         sophocarpine  ",
      "text/html": "<div>\n<style scoped>\n    .dataframe tbody tr th:only-of-type {\n        vertical-align: middle;\n    }\n\n    .dataframe tbody tr th {\n        vertical-align: top;\n    }\n\n    .dataframe thead th {\n        text-align: right;\n    }\n</style>\n<table border=\"1\" class=\"dataframe\">\n  <thead>\n    <tr style=\"text-align: right;\">\n      <th></th>\n      <th>InChIKey14</th>\n      <th>broad_id_20170327</th>\n      <th>deprecated_broad_id_20170327</th>\n      <th>pert_iname_20170327</th>\n    </tr>\n  </thead>\n  <tbody>\n    <tr>\n      <th>0</th>\n      <td>AAALVYBICLMAMA</td>\n      <td>BRD-K13087974</td>\n      <td></td>\n      <td>CGP-52411</td>\n    </tr>\n    <tr>\n      <th>1</th>\n      <td>AAAQFGUYHFJNHI</td>\n      <td>BRD-K08109215</td>\n      <td></td>\n      <td>I-BET-762</td>\n    </tr>\n    <tr>\n      <th>2</th>\n      <td>AADCDMQTJNYOSS</td>\n      <td>BRD-K50417881</td>\n      <td></td>\n      <td>eticlopride</td>\n    </tr>\n    <tr>\n      <th>3</th>\n      <td>AAFJXZWCNVJTMK</td>\n      <td>BRD-K68502831</td>\n      <td></td>\n      <td>dianhydrogalactitol</td>\n    </tr>\n    <tr>\n      <th>4</th>\n      <td>AAGFPTSOPGCENQ</td>\n      <td>BRD-K10999968|BRD-K66845263</td>\n      <td></td>\n      <td>sophocarpine</td>\n    </tr>\n  </tbody>\n</table>\n</div>"
     },
     "execution_count": 6,
     "metadata": {},
     "output_type": "execute_result"
    }
   ],
   "source": [
    "samples_2017 = group_by_InChIKey14(samples_2017, \"20170327\")\n",
    "samples_2018a = group_by_InChIKey14(samples_2018a, \"20180516\")\n",
    "samples_2018b = group_by_InChIKey14(samples_2018b, \"20180907\")\n",
    "samples_2020 = group_by_InChIKey14(samples_2020, \"20200324\")\n",
    "\n",
    "samples_2017.head()"
   ],
   "metadata": {
    "collapsed": false,
    "pycharm": {
     "name": "#%%\n"
    }
   }
  },
  {
   "cell_type": "markdown",
   "source": [
    "The four data frames are merged on InChIKey14"
   ],
   "metadata": {
    "collapsed": false,
    "pycharm": {
     "name": "#%% md\n"
    }
   }
  },
  {
   "cell_type": "code",
   "execution_count": 7,
   "outputs": [
    {
     "data": {
      "text/plain": "       InChIKey14            broad_id_20170327  deprecated_broad_id_20170327  \\\n0  AAALVYBICLMAMA                BRD-K13087974                           NaN   \n1  AAAQFGUYHFJNHI                BRD-K08109215                           NaN   \n2  AADCDMQTJNYOSS                BRD-K50417881                           NaN   \n3  AAFJXZWCNVJTMK                BRD-K68502831                           NaN   \n4  AAGFPTSOPGCENQ  BRD-K10999968|BRD-K66845263                           NaN   \n\n   pert_iname_20170327            broad_id_20180516  \\\n0            CGP-52411                BRD-K13087974   \n1            I-BET-762                BRD-K08109215   \n2          eticlopride                BRD-K50417881   \n3  dianhydrogalactitol                BRD-K68502831   \n4         sophocarpine  BRD-K10999968|BRD-K66845263   \n\n  deprecated_broad_id_20180516  pert_iname_20180516 broad_id_20180907  \\\n0                          NaN            CGP-52411     BRD-K13087974   \n1                          NaN            I-BET-762     BRD-K08109215   \n2                          NaN          eticlopride     BRD-K50417881   \n3                          NaN  dianhydrogalactitol     BRD-K68502831   \n4                          NaN         sophocarpine     BRD-K66845263   \n\n  deprecated_broad_id_20180907  pert_iname_20180907 broad_id_20200324  \\\n0                          NaN            CGP-52411     BRD-K13087974   \n1                          NaN            I-BET-762     BRD-K08109215   \n2                          NaN          eticlopride     BRD-K50417881   \n3                          NaN  dianhydrogalactitol     BRD-K68502831   \n4       BRD-K10999968-001-01-4         sophocarpine     BRD-K66845263   \n\n  deprecated_broad_id_20200324  pert_iname_20200324  \n0                          NaN            CGP-52411  \n1                          NaN            I-BET-762  \n2                          NaN          eticlopride  \n3                          NaN  dianhydrogalactitol  \n4       BRD-K10999968-001-01-4         sophocarpine  ",
      "text/html": "<div>\n<style scoped>\n    .dataframe tbody tr th:only-of-type {\n        vertical-align: middle;\n    }\n\n    .dataframe tbody tr th {\n        vertical-align: top;\n    }\n\n    .dataframe thead th {\n        text-align: right;\n    }\n</style>\n<table border=\"1\" class=\"dataframe\">\n  <thead>\n    <tr style=\"text-align: right;\">\n      <th></th>\n      <th>InChIKey14</th>\n      <th>broad_id_20170327</th>\n      <th>deprecated_broad_id_20170327</th>\n      <th>pert_iname_20170327</th>\n      <th>broad_id_20180516</th>\n      <th>deprecated_broad_id_20180516</th>\n      <th>pert_iname_20180516</th>\n      <th>broad_id_20180907</th>\n      <th>deprecated_broad_id_20180907</th>\n      <th>pert_iname_20180907</th>\n      <th>broad_id_20200324</th>\n      <th>deprecated_broad_id_20200324</th>\n      <th>pert_iname_20200324</th>\n    </tr>\n  </thead>\n  <tbody>\n    <tr>\n      <th>0</th>\n      <td>AAALVYBICLMAMA</td>\n      <td>BRD-K13087974</td>\n      <td>NaN</td>\n      <td>CGP-52411</td>\n      <td>BRD-K13087974</td>\n      <td>NaN</td>\n      <td>CGP-52411</td>\n      <td>BRD-K13087974</td>\n      <td>NaN</td>\n      <td>CGP-52411</td>\n      <td>BRD-K13087974</td>\n      <td>NaN</td>\n      <td>CGP-52411</td>\n    </tr>\n    <tr>\n      <th>1</th>\n      <td>AAAQFGUYHFJNHI</td>\n      <td>BRD-K08109215</td>\n      <td>NaN</td>\n      <td>I-BET-762</td>\n      <td>BRD-K08109215</td>\n      <td>NaN</td>\n      <td>I-BET-762</td>\n      <td>BRD-K08109215</td>\n      <td>NaN</td>\n      <td>I-BET-762</td>\n      <td>BRD-K08109215</td>\n      <td>NaN</td>\n      <td>I-BET-762</td>\n    </tr>\n    <tr>\n      <th>2</th>\n      <td>AADCDMQTJNYOSS</td>\n      <td>BRD-K50417881</td>\n      <td>NaN</td>\n      <td>eticlopride</td>\n      <td>BRD-K50417881</td>\n      <td>NaN</td>\n      <td>eticlopride</td>\n      <td>BRD-K50417881</td>\n      <td>NaN</td>\n      <td>eticlopride</td>\n      <td>BRD-K50417881</td>\n      <td>NaN</td>\n      <td>eticlopride</td>\n    </tr>\n    <tr>\n      <th>3</th>\n      <td>AAFJXZWCNVJTMK</td>\n      <td>BRD-K68502831</td>\n      <td>NaN</td>\n      <td>dianhydrogalactitol</td>\n      <td>BRD-K68502831</td>\n      <td>NaN</td>\n      <td>dianhydrogalactitol</td>\n      <td>BRD-K68502831</td>\n      <td>NaN</td>\n      <td>dianhydrogalactitol</td>\n      <td>BRD-K68502831</td>\n      <td>NaN</td>\n      <td>dianhydrogalactitol</td>\n    </tr>\n    <tr>\n      <th>4</th>\n      <td>AAGFPTSOPGCENQ</td>\n      <td>BRD-K10999968|BRD-K66845263</td>\n      <td>NaN</td>\n      <td>sophocarpine</td>\n      <td>BRD-K10999968|BRD-K66845263</td>\n      <td>NaN</td>\n      <td>sophocarpine</td>\n      <td>BRD-K66845263</td>\n      <td>BRD-K10999968-001-01-4</td>\n      <td>sophocarpine</td>\n      <td>BRD-K66845263</td>\n      <td>BRD-K10999968-001-01-4</td>\n      <td>sophocarpine</td>\n    </tr>\n  </tbody>\n</table>\n</div>"
     },
     "execution_count": 7,
     "metadata": {},
     "output_type": "execute_result"
    }
   ],
   "source": [
    "merged_list = (\n",
    "    samples_2017.merge(samples_2018a, on='InChIKey14', how='outer')\n",
    "    .merge(samples_2018b, on='InChIKey14', how='outer')\n",
    "    .merge(samples_2020, on='InChIKey14', how='outer')\n",
    "    .replace(to_replace='', value=np.nan)\n",
    ")\n",
    "\n",
    "merged_list.head()"
   ],
   "metadata": {
    "collapsed": false,
    "pycharm": {
     "name": "#%%\n"
    }
   }
  },
  {
   "cell_type": "code",
   "execution_count": 8,
   "outputs": [
    {
     "name": "stdout",
     "output_type": "stream",
     "text": [
      "(6959, 13)\n"
     ]
    }
   ],
   "source": [
    "print(merged_list.shape)"
   ],
   "metadata": {
    "collapsed": false,
    "pycharm": {
     "name": "#%%\n"
    }
   }
  },
  {
   "cell_type": "code",
   "execution_count": 9,
   "outputs": [],
   "source": [
    "map_file = os.path.join('clue', 'broad_id_map.csv')\n",
    "merged_list.to_csv(map_file, index=False)\n",
    "\n",
    "\n",
    "\n"
   ],
   "metadata": {
    "collapsed": false,
    "pycharm": {
     "name": "#%%\n"
    }
   }
  }
 ],
 "metadata": {
  "kernelspec": {
   "name": "pycharm-c3da358c",
   "language": "python",
   "display_name": "PyCharm (jump-cellpainting)"
  },
  "language_info": {
   "codemirror_mode": {
    "name": "ipython",
    "version": 2
   },
   "file_extension": ".py",
   "mimetype": "text/x-python",
   "name": "python",
   "nbconvert_exporter": "python",
   "pygments_lexer": "ipython2",
   "version": "2.7.6"
  }
 },
 "nbformat": 4,
 "nbformat_minor": 0
}