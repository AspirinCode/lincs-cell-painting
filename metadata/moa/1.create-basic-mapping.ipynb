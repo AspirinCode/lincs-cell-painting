{
 "cells": [
  {
   "cell_type": "markdown",
   "metadata": {},
   "source": [
    "# Create a Basic Mapping of Broad IDs to MOAs and Targets\n",
    "\n",
    "Here, I add the `pert_id` column to an additional file.\n",
    "This file contains only the essential mapping columns between cell painting data and drug annotations.\n",
    "\n",
    "The primary addition is truncating the `broad_id` column into the `pert_id` column (e.g. `BRD-K89787693-001-01-1` becomes `BRD-K89787693`) and describing the impact.\n",
    "\n",
    "I create a new file (called `repurposing_info_basic.tsv`) that only contains the unique columns `pert_id`, `pert_iname`, `moa`, and `target`.\n",
    "\n",
    "The `broad_id` column contains additional supplier, batch and aliquot information.\n",
    "The `pert_id` column is the essential information that is used to directly map compounds to profiles."
   ]
  },
  {
   "cell_type": "code",
   "execution_count": 1,
   "metadata": {},
   "outputs": [
    {
     "data": {
      "application/javascript": [
       "\n",
       "            setTimeout(function() {\n",
       "                var nbb_cell_id = 1;\n",
       "                var nbb_unformatted_code = \"%load_ext nb_black\\n%matplotlib inline\";\n",
       "                var nbb_formatted_code = \"%load_ext nb_black\\n%matplotlib inline\";\n",
       "                var nbb_cells = Jupyter.notebook.get_cells();\n",
       "                for (var i = 0; i < nbb_cells.length; ++i) {\n",
       "                    if (nbb_cells[i].input_prompt_number == nbb_cell_id) {\n",
       "                        if (nbb_cells[i].get_text() == nbb_unformatted_code) {\n",
       "                             nbb_cells[i].set_text(nbb_formatted_code);\n",
       "                        }\n",
       "                        break;\n",
       "                    }\n",
       "                }\n",
       "            }, 500);\n",
       "            "
      ],
      "text/plain": [
       "<IPython.core.display.Javascript object>"
      ]
     },
     "metadata": {},
     "output_type": "display_data"
    }
   ],
   "source": [
    "%load_ext nb_black\n",
    "%matplotlib inline"
   ]
  },
  {
   "cell_type": "code",
   "execution_count": 2,
   "metadata": {},
   "outputs": [
    {
     "data": {
      "application/javascript": [
       "\n",
       "            setTimeout(function() {\n",
       "                var nbb_cell_id = 2;\n",
       "                var nbb_unformatted_code = \"import os\\nimport pandas as pd\";\n",
       "                var nbb_formatted_code = \"import os\\nimport pandas as pd\";\n",
       "                var nbb_cells = Jupyter.notebook.get_cells();\n",
       "                for (var i = 0; i < nbb_cells.length; ++i) {\n",
       "                    if (nbb_cells[i].input_prompt_number == nbb_cell_id) {\n",
       "                        if (nbb_cells[i].get_text() == nbb_unformatted_code) {\n",
       "                             nbb_cells[i].set_text(nbb_formatted_code);\n",
       "                        }\n",
       "                        break;\n",
       "                    }\n",
       "                }\n",
       "            }, 500);\n",
       "            "
      ],
      "text/plain": [
       "<IPython.core.display.Javascript object>"
      ]
     },
     "metadata": {},
     "output_type": "display_data"
    }
   ],
   "source": [
    "import os\n",
    "import pandas as pd"
   ]
  },
  {
   "cell_type": "code",
   "execution_count": 3,
   "metadata": {},
   "outputs": [
    {
     "data": {
      "application/javascript": [
       "\n",
       "            setTimeout(function() {\n",
       "                var nbb_cell_id = 3;\n",
       "                var nbb_unformatted_code = \"use_cols = [\\\"pert_id\\\", \\\"pert_iname\\\", \\\"moa\\\", \\\"target\\\"]\";\n",
       "                var nbb_formatted_code = \"use_cols = [\\\"pert_id\\\", \\\"pert_iname\\\", \\\"moa\\\", \\\"target\\\"]\";\n",
       "                var nbb_cells = Jupyter.notebook.get_cells();\n",
       "                for (var i = 0; i < nbb_cells.length; ++i) {\n",
       "                    if (nbb_cells[i].input_prompt_number == nbb_cell_id) {\n",
       "                        if (nbb_cells[i].get_text() == nbb_unformatted_code) {\n",
       "                             nbb_cells[i].set_text(nbb_formatted_code);\n",
       "                        }\n",
       "                        break;\n",
       "                    }\n",
       "                }\n",
       "            }, 500);\n",
       "            "
      ],
      "text/plain": [
       "<IPython.core.display.Javascript object>"
      ]
     },
     "metadata": {},
     "output_type": "display_data"
    }
   ],
   "source": [
    "use_cols = [\"pert_id\", \"pert_iname\", \"moa\", \"target\"]"
   ]
  },
  {
   "cell_type": "markdown",
   "metadata": {},
   "source": [
    "## Load Data and Create the `pert_id` column"
   ]
  },
  {
   "cell_type": "code",
   "execution_count": 4,
   "metadata": {},
   "outputs": [
    {
     "name": "stdout",
     "output_type": "stream",
     "text": [
      "(13553, 19)\n"
     ]
    },
    {
     "data": {
      "text/html": [
       "<div>\n",
       "<style scoped>\n",
       "    .dataframe tbody tr th:only-of-type {\n",
       "        vertical-align: middle;\n",
       "    }\n",
       "\n",
       "    .dataframe tbody tr th {\n",
       "        vertical-align: top;\n",
       "    }\n",
       "\n",
       "    .dataframe thead th {\n",
       "        text-align: right;\n",
       "    }\n",
       "</style>\n",
       "<table border=\"1\" class=\"dataframe\">\n",
       "  <thead>\n",
       "    <tr style=\"text-align: right;\">\n",
       "      <th></th>\n",
       "      <th>broad_id</th>\n",
       "      <th>pert_iname</th>\n",
       "      <th>clinical_phase</th>\n",
       "      <th>moa</th>\n",
       "      <th>target</th>\n",
       "      <th>disease_area</th>\n",
       "      <th>indication</th>\n",
       "      <th>qc_incompatible</th>\n",
       "      <th>purity</th>\n",
       "      <th>vendor</th>\n",
       "      <th>catalog_no</th>\n",
       "      <th>vendor_name</th>\n",
       "      <th>expected_mass</th>\n",
       "      <th>smiles</th>\n",
       "      <th>InChIKey</th>\n",
       "      <th>pubchem_cid</th>\n",
       "      <th>deprecated_broad_id</th>\n",
       "      <th>InChIKey14</th>\n",
       "      <th>pert_id</th>\n",
       "    </tr>\n",
       "  </thead>\n",
       "  <tbody>\n",
       "    <tr>\n",
       "      <th>0</th>\n",
       "      <td>BRD-K76022557-003-28-9</td>\n",
       "      <td>(R)-(-)-apomorphine</td>\n",
       "      <td>Launched</td>\n",
       "      <td>dopamine receptor agonist</td>\n",
       "      <td>ADRA2A|ADRA2B|ADRA2C|CALY|DRD1|DRD2|DRD3|DRD4|...</td>\n",
       "      <td>neurology/psychiatry</td>\n",
       "      <td>Parkinson's Disease</td>\n",
       "      <td>0</td>\n",
       "      <td>98.90</td>\n",
       "      <td>MedChemEx</td>\n",
       "      <td>HY-12723A</td>\n",
       "      <td>Apomorphine (hydrochloride hemihydrate)</td>\n",
       "      <td>267.126</td>\n",
       "      <td>CN1CCc2cccc-3c2[C@H]1Cc1ccc(O)c(O)c-31</td>\n",
       "      <td>VMWNQDUVQKEIOC-CYBMUJFWSA-N</td>\n",
       "      <td>6005.0</td>\n",
       "      <td>NaN</td>\n",
       "      <td>VMWNQDUVQKEIOC</td>\n",
       "      <td>BRD-K76022557</td>\n",
       "    </tr>\n",
       "    <tr>\n",
       "      <th>1</th>\n",
       "      <td>BRD-K76022557-003-02-7</td>\n",
       "      <td>(R)-(-)-apomorphine</td>\n",
       "      <td>Launched</td>\n",
       "      <td>dopamine receptor agonist</td>\n",
       "      <td>ADRA2A|ADRA2B|ADRA2C|CALY|DRD1|DRD2|DRD3|DRD4|...</td>\n",
       "      <td>neurology/psychiatry</td>\n",
       "      <td>Parkinson's Disease</td>\n",
       "      <td>0</td>\n",
       "      <td>97.34</td>\n",
       "      <td>Tocris</td>\n",
       "      <td>2073</td>\n",
       "      <td>(R)-(-)-Apomorphine hydrochloride</td>\n",
       "      <td>267.126</td>\n",
       "      <td>CN1CCc2cccc-3c2[C@H]1Cc1ccc(O)c(O)c-31</td>\n",
       "      <td>VMWNQDUVQKEIOC-CYBMUJFWSA-N</td>\n",
       "      <td>6005.0</td>\n",
       "      <td>NaN</td>\n",
       "      <td>VMWNQDUVQKEIOC</td>\n",
       "      <td>BRD-K76022557</td>\n",
       "    </tr>\n",
       "    <tr>\n",
       "      <th>2</th>\n",
       "      <td>BRD-K76022557-003-29-9</td>\n",
       "      <td>(R)-(-)-apomorphine</td>\n",
       "      <td>Launched</td>\n",
       "      <td>dopamine receptor agonist</td>\n",
       "      <td>ADRA2A|ADRA2B|ADRA2C|CALY|DRD1|DRD2|DRD3|DRD4|...</td>\n",
       "      <td>neurology/psychiatry</td>\n",
       "      <td>Parkinson's Disease</td>\n",
       "      <td>0</td>\n",
       "      <td>97.36</td>\n",
       "      <td>Tocris</td>\n",
       "      <td>2073</td>\n",
       "      <td>(R)-(-)-Apomorphine hydrochloride</td>\n",
       "      <td>267.126</td>\n",
       "      <td>CN1CCc2cccc-3c2[C@H]1Cc1ccc(O)c(O)c-31</td>\n",
       "      <td>VMWNQDUVQKEIOC-CYBMUJFWSA-N</td>\n",
       "      <td>6005.0</td>\n",
       "      <td>NaN</td>\n",
       "      <td>VMWNQDUVQKEIOC</td>\n",
       "      <td>BRD-K76022557</td>\n",
       "    </tr>\n",
       "    <tr>\n",
       "      <th>3</th>\n",
       "      <td>BRD-K76022557-001-03-9</td>\n",
       "      <td>(R)-(-)-apomorphine</td>\n",
       "      <td>Launched</td>\n",
       "      <td>dopamine receptor agonist</td>\n",
       "      <td>ADRA2A|ADRA2B|ADRA2C|CALY|DRD1|DRD2|DRD3|DRD4|...</td>\n",
       "      <td>neurology/psychiatry</td>\n",
       "      <td>Parkinson's Disease</td>\n",
       "      <td>0</td>\n",
       "      <td>95.80</td>\n",
       "      <td>Selleck</td>\n",
       "      <td>S4350</td>\n",
       "      <td>R-(-)-Apomorphine HCl Hemihydrate</td>\n",
       "      <td>267.126</td>\n",
       "      <td>CN1CCc2cccc-3c2[C@H]1Cc1ccc(O)c(O)c-31</td>\n",
       "      <td>VMWNQDUVQKEIOC-CYBMUJFWSA-N</td>\n",
       "      <td>6005.0</td>\n",
       "      <td>NaN</td>\n",
       "      <td>VMWNQDUVQKEIOC</td>\n",
       "      <td>BRD-K76022557</td>\n",
       "    </tr>\n",
       "    <tr>\n",
       "      <th>4</th>\n",
       "      <td>BRD-K75516118-001-04-1</td>\n",
       "      <td>(R)-(-)-rolipram</td>\n",
       "      <td>Phase 1</td>\n",
       "      <td>phosphodiesterase inhibitor</td>\n",
       "      <td>PDE4A|PDE4B|PDE4C|PDE4D|PDE5A</td>\n",
       "      <td>NaN</td>\n",
       "      <td>NaN</td>\n",
       "      <td>0</td>\n",
       "      <td>93.92</td>\n",
       "      <td>Tocris</td>\n",
       "      <td>1349</td>\n",
       "      <td>(R)-(-)-Rolipram</td>\n",
       "      <td>275.152</td>\n",
       "      <td>COc1ccc(cc1OC1CCCC1)[C@@H]1CNC(=O)C1</td>\n",
       "      <td>HJORMJIFDVBMOB-LBPRGKRZSA-N</td>\n",
       "      <td>448055.0</td>\n",
       "      <td>NaN</td>\n",
       "      <td>HJORMJIFDVBMOB</td>\n",
       "      <td>BRD-K75516118</td>\n",
       "    </tr>\n",
       "  </tbody>\n",
       "</table>\n",
       "</div>"
      ],
      "text/plain": [
       "                 broad_id           pert_iname clinical_phase  \\\n",
       "0  BRD-K76022557-003-28-9  (R)-(-)-apomorphine       Launched   \n",
       "1  BRD-K76022557-003-02-7  (R)-(-)-apomorphine       Launched   \n",
       "2  BRD-K76022557-003-29-9  (R)-(-)-apomorphine       Launched   \n",
       "3  BRD-K76022557-001-03-9  (R)-(-)-apomorphine       Launched   \n",
       "4  BRD-K75516118-001-04-1     (R)-(-)-rolipram        Phase 1   \n",
       "\n",
       "                           moa  \\\n",
       "0    dopamine receptor agonist   \n",
       "1    dopamine receptor agonist   \n",
       "2    dopamine receptor agonist   \n",
       "3    dopamine receptor agonist   \n",
       "4  phosphodiesterase inhibitor   \n",
       "\n",
       "                                              target          disease_area  \\\n",
       "0  ADRA2A|ADRA2B|ADRA2C|CALY|DRD1|DRD2|DRD3|DRD4|...  neurology/psychiatry   \n",
       "1  ADRA2A|ADRA2B|ADRA2C|CALY|DRD1|DRD2|DRD3|DRD4|...  neurology/psychiatry   \n",
       "2  ADRA2A|ADRA2B|ADRA2C|CALY|DRD1|DRD2|DRD3|DRD4|...  neurology/psychiatry   \n",
       "3  ADRA2A|ADRA2B|ADRA2C|CALY|DRD1|DRD2|DRD3|DRD4|...  neurology/psychiatry   \n",
       "4                      PDE4A|PDE4B|PDE4C|PDE4D|PDE5A                   NaN   \n",
       "\n",
       "            indication  qc_incompatible  purity     vendor catalog_no  \\\n",
       "0  Parkinson's Disease                0   98.90  MedChemEx  HY-12723A   \n",
       "1  Parkinson's Disease                0   97.34     Tocris       2073   \n",
       "2  Parkinson's Disease                0   97.36     Tocris       2073   \n",
       "3  Parkinson's Disease                0   95.80    Selleck      S4350   \n",
       "4                  NaN                0   93.92     Tocris       1349   \n",
       "\n",
       "                               vendor_name expected_mass  \\\n",
       "0  Apomorphine (hydrochloride hemihydrate)       267.126   \n",
       "1        (R)-(-)-Apomorphine hydrochloride       267.126   \n",
       "2        (R)-(-)-Apomorphine hydrochloride       267.126   \n",
       "3        R-(-)-Apomorphine HCl Hemihydrate       267.126   \n",
       "4                         (R)-(-)-Rolipram       275.152   \n",
       "\n",
       "                                   smiles                     InChIKey  \\\n",
       "0  CN1CCc2cccc-3c2[C@H]1Cc1ccc(O)c(O)c-31  VMWNQDUVQKEIOC-CYBMUJFWSA-N   \n",
       "1  CN1CCc2cccc-3c2[C@H]1Cc1ccc(O)c(O)c-31  VMWNQDUVQKEIOC-CYBMUJFWSA-N   \n",
       "2  CN1CCc2cccc-3c2[C@H]1Cc1ccc(O)c(O)c-31  VMWNQDUVQKEIOC-CYBMUJFWSA-N   \n",
       "3  CN1CCc2cccc-3c2[C@H]1Cc1ccc(O)c(O)c-31  VMWNQDUVQKEIOC-CYBMUJFWSA-N   \n",
       "4    COc1ccc(cc1OC1CCCC1)[C@@H]1CNC(=O)C1  HJORMJIFDVBMOB-LBPRGKRZSA-N   \n",
       "\n",
       "   pubchem_cid deprecated_broad_id      InChIKey14        pert_id  \n",
       "0       6005.0                 NaN  VMWNQDUVQKEIOC  BRD-K76022557  \n",
       "1       6005.0                 NaN  VMWNQDUVQKEIOC  BRD-K76022557  \n",
       "2       6005.0                 NaN  VMWNQDUVQKEIOC  BRD-K76022557  \n",
       "3       6005.0                 NaN  VMWNQDUVQKEIOC  BRD-K76022557  \n",
       "4     448055.0                 NaN  HJORMJIFDVBMOB  BRD-K75516118  "
      ]
     },
     "execution_count": 4,
     "metadata": {},
     "output_type": "execute_result"
    },
    {
     "data": {
      "application/javascript": [
       "\n",
       "            setTimeout(function() {\n",
       "                var nbb_cell_id = 4;\n",
       "                var nbb_unformatted_code = \"annotation_df = pd.read_csv(\\\"repurposing_info.tsv\\\", sep=\\\"\\\\t\\\")\\n\\nannotation_df = annotation_df.assign(pert_id=annotation_df.broad_id.str.slice(0, 13))\\n\\nprint(annotation_df.shape)\\nannotation_df.head()\";\n",
       "                var nbb_formatted_code = \"annotation_df = pd.read_csv(\\\"repurposing_info.tsv\\\", sep=\\\"\\\\t\\\")\\n\\nannotation_df = annotation_df.assign(pert_id=annotation_df.broad_id.str.slice(0, 13))\\n\\nprint(annotation_df.shape)\\nannotation_df.head()\";\n",
       "                var nbb_cells = Jupyter.notebook.get_cells();\n",
       "                for (var i = 0; i < nbb_cells.length; ++i) {\n",
       "                    if (nbb_cells[i].input_prompt_number == nbb_cell_id) {\n",
       "                        if (nbb_cells[i].get_text() == nbb_unformatted_code) {\n",
       "                             nbb_cells[i].set_text(nbb_formatted_code);\n",
       "                        }\n",
       "                        break;\n",
       "                    }\n",
       "                }\n",
       "            }, 500);\n",
       "            "
      ],
      "text/plain": [
       "<IPython.core.display.Javascript object>"
      ]
     },
     "metadata": {},
     "output_type": "display_data"
    }
   ],
   "source": [
    "annotation_df = pd.read_csv(\"repurposing_info.tsv\", sep=\"\\t\")\n",
    "\n",
    "annotation_df = annotation_df.assign(pert_id=annotation_df.broad_id.str.slice(0, 13))\n",
    "\n",
    "print(annotation_df.shape)\n",
    "annotation_df.head()"
   ]
  },
  {
   "cell_type": "markdown",
   "metadata": {},
   "source": [
    "## Describe the Effect of adding `pert_id`\n",
    "\n",
    "How many columns are replicated?"
   ]
  },
  {
   "cell_type": "code",
   "execution_count": 5,
   "metadata": {},
   "outputs": [
    {
     "data": {
      "text/plain": [
       "0"
      ]
     },
     "execution_count": 5,
     "metadata": {},
     "output_type": "execute_result"
    },
    {
     "data": {
      "application/javascript": [
       "\n",
       "            setTimeout(function() {\n",
       "                var nbb_cell_id = 5;\n",
       "                var nbb_unformatted_code = \"# There are no duplicate `broad_ids`\\nannotation_df.broad_id.duplicated().sum()\";\n",
       "                var nbb_formatted_code = \"# There are no duplicate `broad_ids`\\nannotation_df.broad_id.duplicated().sum()\";\n",
       "                var nbb_cells = Jupyter.notebook.get_cells();\n",
       "                for (var i = 0; i < nbb_cells.length; ++i) {\n",
       "                    if (nbb_cells[i].input_prompt_number == nbb_cell_id) {\n",
       "                        if (nbb_cells[i].get_text() == nbb_unformatted_code) {\n",
       "                             nbb_cells[i].set_text(nbb_formatted_code);\n",
       "                        }\n",
       "                        break;\n",
       "                    }\n",
       "                }\n",
       "            }, 500);\n",
       "            "
      ],
      "text/plain": [
       "<IPython.core.display.Javascript object>"
      ]
     },
     "metadata": {},
     "output_type": "display_data"
    }
   ],
   "source": [
    "# There are no duplicate `broad_ids`\n",
    "annotation_df.broad_id.duplicated().sum()"
   ]
  },
  {
   "cell_type": "code",
   "execution_count": 6,
   "metadata": {},
   "outputs": [
    {
     "data": {
      "text/plain": [
       "BRD-K41260949    8\n",
       "BRD-K68432770    8\n",
       "BRD-A34299591    8\n",
       "BRD-K06519765    7\n",
       "BRD-K71879491    7\n",
       "BRD-K08547377    7\n",
       "BRD-K52756523    7\n",
       "BRD-K35458079    7\n",
       "BRD-K85402309    6\n",
       "BRD-K20672254    6\n",
       "Name: pert_id, dtype: int64"
      ]
     },
     "execution_count": 6,
     "metadata": {},
     "output_type": "execute_result"
    },
    {
     "data": {
      "application/javascript": [
       "\n",
       "            setTimeout(function() {\n",
       "                var nbb_cell_id = 6;\n",
       "                var nbb_unformatted_code = \"pert_counts = annotation_df.pert_id.value_counts()\\npert_counts.head(10)\";\n",
       "                var nbb_formatted_code = \"pert_counts = annotation_df.pert_id.value_counts()\\npert_counts.head(10)\";\n",
       "                var nbb_cells = Jupyter.notebook.get_cells();\n",
       "                for (var i = 0; i < nbb_cells.length; ++i) {\n",
       "                    if (nbb_cells[i].input_prompt_number == nbb_cell_id) {\n",
       "                        if (nbb_cells[i].get_text() == nbb_unformatted_code) {\n",
       "                             nbb_cells[i].set_text(nbb_formatted_code);\n",
       "                        }\n",
       "                        break;\n",
       "                    }\n",
       "                }\n",
       "            }, 500);\n",
       "            "
      ],
      "text/plain": [
       "<IPython.core.display.Javascript object>"
      ]
     },
     "metadata": {},
     "output_type": "display_data"
    }
   ],
   "source": [
    "pert_counts = annotation_df.pert_id.value_counts()\n",
    "pert_counts.head(10)"
   ]
  },
  {
   "cell_type": "code",
   "execution_count": 7,
   "metadata": {},
   "outputs": [
    {
     "data": {
      "text/plain": [
       "<matplotlib.axes._subplots.AxesSubplot at 0x108ed6390>"
      ]
     },
     "execution_count": 7,
     "metadata": {},
     "output_type": "execute_result"
    },
    {
     "data": {
      "image/png": "[encoded data removed]",
      "text/plain": [
       "<Figure size 432x288 with 1 Axes>"
      ]
     },
     "metadata": {
      "needs_background": "light"
     },
     "output_type": "display_data"
    },
    {
     "data": {
      "application/javascript": [
       "\n",
       "            setTimeout(function() {\n",
       "                var nbb_cell_id = 7;\n",
       "                var nbb_unformatted_code = \"pert_counts.hist()\";\n",
       "                var nbb_formatted_code = \"pert_counts.hist()\";\n",
       "                var nbb_cells = Jupyter.notebook.get_cells();\n",
       "                for (var i = 0; i < nbb_cells.length; ++i) {\n",
       "                    if (nbb_cells[i].input_prompt_number == nbb_cell_id) {\n",
       "                        if (nbb_cells[i].get_text() == nbb_unformatted_code) {\n",
       "                             nbb_cells[i].set_text(nbb_formatted_code);\n",
       "                        }\n",
       "                        break;\n",
       "                    }\n",
       "                }\n",
       "            }, 500);\n",
       "            "
      ],
      "text/plain": [
       "<IPython.core.display.Javascript object>"
      ]
     },
     "metadata": {},
     "output_type": "display_data"
    }
   ],
   "source": [
    "pert_counts.hist()"
   ]
  },
  {
   "cell_type": "code",
   "execution_count": 8,
   "metadata": {},
   "outputs": [
    {
     "name": "stdout",
     "output_type": "stream",
     "text": [
      "There are 4326 (63.56156332647663%) duplicated `pert_ids`\n"
     ]
    },
    {
     "data": {
      "application/javascript": [
       "\n",
       "            setTimeout(function() {\n",
       "                var nbb_cell_id = 8;\n",
       "                var nbb_unformatted_code = \"# How many pert ids are duplicated?\\nnum_duplicate = (pert_counts > 1).sum()\\npercent_duplicate = (num_duplicate / pert_counts.shape[0]) * 100\\n\\nprint(\\n    \\\"There are {} ({}%) duplicated `pert_ids`\\\".format(num_duplicate, percent_duplicate)\\n)\";\n",
       "                var nbb_formatted_code = \"# How many pert ids are duplicated?\\nnum_duplicate = (pert_counts > 1).sum()\\npercent_duplicate = (num_duplicate / pert_counts.shape[0]) * 100\\n\\nprint(\\n    \\\"There are {} ({}%) duplicated `pert_ids`\\\".format(num_duplicate, percent_duplicate)\\n)\";\n",
       "                var nbb_cells = Jupyter.notebook.get_cells();\n",
       "                for (var i = 0; i < nbb_cells.length; ++i) {\n",
       "                    if (nbb_cells[i].input_prompt_number == nbb_cell_id) {\n",
       "                        if (nbb_cells[i].get_text() == nbb_unformatted_code) {\n",
       "                             nbb_cells[i].set_text(nbb_formatted_code);\n",
       "                        }\n",
       "                        break;\n",
       "                    }\n",
       "                }\n",
       "            }, 500);\n",
       "            "
      ],
      "text/plain": [
       "<IPython.core.display.Javascript object>"
      ]
     },
     "metadata": {},
     "output_type": "display_data"
    }
   ],
   "source": [
    "# How many pert ids are duplicated?\n",
    "num_duplicate = (pert_counts > 1).sum()\n",
    "percent_duplicate = (num_duplicate / pert_counts.shape[0]) * 100\n",
    "\n",
    "print(\n",
    "    \"There are {} ({}%) duplicated `pert_ids`\".format(num_duplicate, percent_duplicate)\n",
    ")"
   ]
  },
  {
   "cell_type": "code",
   "execution_count": 9,
   "metadata": {},
   "outputs": [
    {
     "data": {
      "text/html": [
       "<div>\n",
       "<style scoped>\n",
       "    .dataframe tbody tr th:only-of-type {\n",
       "        vertical-align: middle;\n",
       "    }\n",
       "\n",
       "    .dataframe tbody tr th {\n",
       "        vertical-align: top;\n",
       "    }\n",
       "\n",
       "    .dataframe thead th {\n",
       "        text-align: right;\n",
       "    }\n",
       "</style>\n",
       "<table border=\"1\" class=\"dataframe\">\n",
       "  <thead>\n",
       "    <tr style=\"text-align: right;\">\n",
       "      <th></th>\n",
       "      <th>broad_id</th>\n",
       "      <th>pert_iname</th>\n",
       "      <th>clinical_phase</th>\n",
       "      <th>moa</th>\n",
       "      <th>target</th>\n",
       "      <th>disease_area</th>\n",
       "      <th>indication</th>\n",
       "      <th>qc_incompatible</th>\n",
       "      <th>purity</th>\n",
       "      <th>vendor</th>\n",
       "      <th>catalog_no</th>\n",
       "      <th>vendor_name</th>\n",
       "      <th>expected_mass</th>\n",
       "      <th>smiles</th>\n",
       "      <th>InChIKey</th>\n",
       "      <th>pubchem_cid</th>\n",
       "      <th>deprecated_broad_id</th>\n",
       "      <th>InChIKey14</th>\n",
       "      <th>pert_id</th>\n",
       "    </tr>\n",
       "  </thead>\n",
       "  <tbody>\n",
       "    <tr>\n",
       "      <th>12614</th>\n",
       "      <td>BRD-K41260949-236-15-0</td>\n",
       "      <td>valproic-acid</td>\n",
       "      <td>Launched</td>\n",
       "      <td>benzodiazepine receptor agonist|HDAC inhibitor</td>\n",
       "      <td>ABAT|ACADSB|ALDH5A1|HDAC1|HDAC2|HDAC9|OGDH|SCN...</td>\n",
       "      <td>neurology/psychiatry</td>\n",
       "      <td>epilepsy|seizures|seizures</td>\n",
       "      <td>0</td>\n",
       "      <td>96.04</td>\n",
       "      <td>Selleck</td>\n",
       "      <td>S1168</td>\n",
       "      <td>Valproic acid sodium salt (Sodium valproate)</td>\n",
       "      <td>144.115</td>\n",
       "      <td>CCCC(CCC)C(O)=O</td>\n",
       "      <td>NIJJYAXOARWZEE-UHFFFAOYSA-N</td>\n",
       "      <td>3121.0</td>\n",
       "      <td>NaN</td>\n",
       "      <td>NIJJYAXOARWZEE</td>\n",
       "      <td>BRD-K41260949</td>\n",
       "    </tr>\n",
       "    <tr>\n",
       "      <th>12615</th>\n",
       "      <td>BRD-K41260949-236-18-4</td>\n",
       "      <td>valproic-acid</td>\n",
       "      <td>Launched</td>\n",
       "      <td>benzodiazepine receptor agonist|HDAC inhibitor</td>\n",
       "      <td>ABAT|ACADSB|ALDH5A1|HDAC1|HDAC2|HDAC9|OGDH|SCN...</td>\n",
       "      <td>neurology/psychiatry</td>\n",
       "      <td>epilepsy|seizures|seizures</td>\n",
       "      <td>0</td>\n",
       "      <td>41.51</td>\n",
       "      <td>EMDBio</td>\n",
       "      <td>676380-5GM</td>\n",
       "      <td>Valproic Acid, Sodium Salt</td>\n",
       "      <td>144.115</td>\n",
       "      <td>CCCC(CCC)C(O)=O</td>\n",
       "      <td>NIJJYAXOARWZEE-UHFFFAOYSA-N</td>\n",
       "      <td>3121.0</td>\n",
       "      <td>NaN</td>\n",
       "      <td>NIJJYAXOARWZEE</td>\n",
       "      <td>BRD-K41260949</td>\n",
       "    </tr>\n",
       "    <tr>\n",
       "      <th>12616</th>\n",
       "      <td>BRD-K41260949-236-17-6</td>\n",
       "      <td>valproic-acid</td>\n",
       "      <td>Launched</td>\n",
       "      <td>benzodiazepine receptor agonist|HDAC inhibitor</td>\n",
       "      <td>ABAT|ACADSB|ALDH5A1|HDAC1|HDAC2|HDAC9|OGDH|SCN...</td>\n",
       "      <td>neurology/psychiatry</td>\n",
       "      <td>epilepsy|seizures|seizures</td>\n",
       "      <td>0</td>\n",
       "      <td>31.39</td>\n",
       "      <td>Enzo</td>\n",
       "      <td>550-304</td>\n",
       "      <td>Valproic Acid, Sodium Salt</td>\n",
       "      <td>144.115</td>\n",
       "      <td>CCCC(CCC)C(O)=O</td>\n",
       "      <td>NIJJYAXOARWZEE-UHFFFAOYSA-N</td>\n",
       "      <td>3121.0</td>\n",
       "      <td>NaN</td>\n",
       "      <td>NIJJYAXOARWZEE</td>\n",
       "      <td>BRD-K41260949</td>\n",
       "    </tr>\n",
       "    <tr>\n",
       "      <th>12617</th>\n",
       "      <td>BRD-K41260949-001-18-2</td>\n",
       "      <td>valproic-acid</td>\n",
       "      <td>Launched</td>\n",
       "      <td>benzodiazepine receptor agonist|HDAC inhibitor</td>\n",
       "      <td>ABAT|ACADSB|ALDH5A1|HDAC1|HDAC2|HDAC9|OGDH|SCN...</td>\n",
       "      <td>neurology/psychiatry</td>\n",
       "      <td>epilepsy|seizures|seizures</td>\n",
       "      <td>0</td>\n",
       "      <td>65.88</td>\n",
       "      <td>Sigma</td>\n",
       "      <td>MFCD00002672</td>\n",
       "      <td>2-propylpentanoic acid</td>\n",
       "      <td>144.115</td>\n",
       "      <td>CCCC(CCC)C(O)=O</td>\n",
       "      <td>NIJJYAXOARWZEE-UHFFFAOYSA-N</td>\n",
       "      <td>3121.0</td>\n",
       "      <td>NaN</td>\n",
       "      <td>NIJJYAXOARWZEE</td>\n",
       "      <td>BRD-K41260949</td>\n",
       "    </tr>\n",
       "    <tr>\n",
       "      <th>12618</th>\n",
       "      <td>BRD-K41260949-236-21-8</td>\n",
       "      <td>valproic-acid</td>\n",
       "      <td>Launched</td>\n",
       "      <td>benzodiazepine receptor agonist|HDAC inhibitor</td>\n",
       "      <td>ABAT|ACADSB|ALDH5A1|HDAC1|HDAC2|HDAC9|OGDH|SCN...</td>\n",
       "      <td>neurology/psychiatry</td>\n",
       "      <td>epilepsy|seizures|seizures</td>\n",
       "      <td>0</td>\n",
       "      <td>2.38</td>\n",
       "      <td>Tocris</td>\n",
       "      <td>2815</td>\n",
       "      <td>Valproic acid, sodium salt</td>\n",
       "      <td>144.115</td>\n",
       "      <td>CCCC(CCC)C(O)=O</td>\n",
       "      <td>NIJJYAXOARWZEE-UHFFFAOYSA-N</td>\n",
       "      <td>3121.0</td>\n",
       "      <td>NaN</td>\n",
       "      <td>NIJJYAXOARWZEE</td>\n",
       "      <td>BRD-K41260949</td>\n",
       "    </tr>\n",
       "    <tr>\n",
       "      <th>12619</th>\n",
       "      <td>BRD-K41260949-236-20-0</td>\n",
       "      <td>valproic-acid</td>\n",
       "      <td>Launched</td>\n",
       "      <td>benzodiazepine receptor agonist|HDAC inhibitor</td>\n",
       "      <td>ABAT|ACADSB|ALDH5A1|HDAC1|HDAC2|HDAC9|OGDH|SCN...</td>\n",
       "      <td>neurology/psychiatry</td>\n",
       "      <td>epilepsy|seizures|seizures</td>\n",
       "      <td>0</td>\n",
       "      <td>42.10</td>\n",
       "      <td>Selleck</td>\n",
       "      <td>S1703</td>\n",
       "      <td>Divalproex sodium</td>\n",
       "      <td>144.115</td>\n",
       "      <td>CCCC(CCC)C(O)=O</td>\n",
       "      <td>NIJJYAXOARWZEE-UHFFFAOYSA-N</td>\n",
       "      <td>3121.0</td>\n",
       "      <td>BRD-M19962486-236-03-2</td>\n",
       "      <td>NIJJYAXOARWZEE</td>\n",
       "      <td>BRD-K41260949</td>\n",
       "    </tr>\n",
       "    <tr>\n",
       "      <th>12620</th>\n",
       "      <td>BRD-K41260949-236-16-8</td>\n",
       "      <td>valproic-acid</td>\n",
       "      <td>Launched</td>\n",
       "      <td>benzodiazepine receptor agonist|HDAC inhibitor</td>\n",
       "      <td>ABAT|ACADSB|ALDH5A1|HDAC1|HDAC2|HDAC9|OGDH|SCN...</td>\n",
       "      <td>neurology/psychiatry</td>\n",
       "      <td>epilepsy|seizures|seizures</td>\n",
       "      <td>0</td>\n",
       "      <td>96.83</td>\n",
       "      <td>MicroSource</td>\n",
       "      <td>1500606</td>\n",
       "      <td>VALPROATE SODIUM</td>\n",
       "      <td>144.115</td>\n",
       "      <td>CCCC(CCC)C(O)=O</td>\n",
       "      <td>NIJJYAXOARWZEE-UHFFFAOYSA-N</td>\n",
       "      <td>3121.0</td>\n",
       "      <td>NaN</td>\n",
       "      <td>NIJJYAXOARWZEE</td>\n",
       "      <td>BRD-K41260949</td>\n",
       "    </tr>\n",
       "    <tr>\n",
       "      <th>12621</th>\n",
       "      <td>BRD-K41260949-236-19-2</td>\n",
       "      <td>valproic-acid</td>\n",
       "      <td>Launched</td>\n",
       "      <td>benzodiazepine receptor agonist|HDAC inhibitor</td>\n",
       "      <td>ABAT|ACADSB|ALDH5A1|HDAC1|HDAC2|HDAC9|OGDH|SCN...</td>\n",
       "      <td>neurology/psychiatry</td>\n",
       "      <td>epilepsy|seizures|seizures</td>\n",
       "      <td>0</td>\n",
       "      <td>23.50</td>\n",
       "      <td>Selleck</td>\n",
       "      <td>S1703</td>\n",
       "      <td>Divalproex Sodium</td>\n",
       "      <td>144.115</td>\n",
       "      <td>CCCC(CCC)C(O)=O</td>\n",
       "      <td>NIJJYAXOARWZEE-UHFFFAOYSA-N</td>\n",
       "      <td>3121.0</td>\n",
       "      <td>BRD-M19962486-236-02-4</td>\n",
       "      <td>NIJJYAXOARWZEE</td>\n",
       "      <td>BRD-K41260949</td>\n",
       "    </tr>\n",
       "  </tbody>\n",
       "</table>\n",
       "</div>"
      ],
      "text/plain": [
       "                     broad_id     pert_iname clinical_phase  \\\n",
       "12614  BRD-K41260949-236-15-0  valproic-acid       Launched   \n",
       "12615  BRD-K41260949-236-18-4  valproic-acid       Launched   \n",
       "12616  BRD-K41260949-236-17-6  valproic-acid       Launched   \n",
       "12617  BRD-K41260949-001-18-2  valproic-acid       Launched   \n",
       "12618  BRD-K41260949-236-21-8  valproic-acid       Launched   \n",
       "12619  BRD-K41260949-236-20-0  valproic-acid       Launched   \n",
       "12620  BRD-K41260949-236-16-8  valproic-acid       Launched   \n",
       "12621  BRD-K41260949-236-19-2  valproic-acid       Launched   \n",
       "\n",
       "                                                  moa  \\\n",
       "12614  benzodiazepine receptor agonist|HDAC inhibitor   \n",
       "12615  benzodiazepine receptor agonist|HDAC inhibitor   \n",
       "12616  benzodiazepine receptor agonist|HDAC inhibitor   \n",
       "12617  benzodiazepine receptor agonist|HDAC inhibitor   \n",
       "12618  benzodiazepine receptor agonist|HDAC inhibitor   \n",
       "12619  benzodiazepine receptor agonist|HDAC inhibitor   \n",
       "12620  benzodiazepine receptor agonist|HDAC inhibitor   \n",
       "12621  benzodiazepine receptor agonist|HDAC inhibitor   \n",
       "\n",
       "                                                  target  \\\n",
       "12614  ABAT|ACADSB|ALDH5A1|HDAC1|HDAC2|HDAC9|OGDH|SCN...   \n",
       "12615  ABAT|ACADSB|ALDH5A1|HDAC1|HDAC2|HDAC9|OGDH|SCN...   \n",
       "12616  ABAT|ACADSB|ALDH5A1|HDAC1|HDAC2|HDAC9|OGDH|SCN...   \n",
       "12617  ABAT|ACADSB|ALDH5A1|HDAC1|HDAC2|HDAC9|OGDH|SCN...   \n",
       "12618  ABAT|ACADSB|ALDH5A1|HDAC1|HDAC2|HDAC9|OGDH|SCN...   \n",
       "12619  ABAT|ACADSB|ALDH5A1|HDAC1|HDAC2|HDAC9|OGDH|SCN...   \n",
       "12620  ABAT|ACADSB|ALDH5A1|HDAC1|HDAC2|HDAC9|OGDH|SCN...   \n",
       "12621  ABAT|ACADSB|ALDH5A1|HDAC1|HDAC2|HDAC9|OGDH|SCN...   \n",
       "\n",
       "               disease_area                  indication  qc_incompatible  \\\n",
       "12614  neurology/psychiatry  epilepsy|seizures|seizures                0   \n",
       "12615  neurology/psychiatry  epilepsy|seizures|seizures                0   \n",
       "12616  neurology/psychiatry  epilepsy|seizures|seizures                0   \n",
       "12617  neurology/psychiatry  epilepsy|seizures|seizures                0   \n",
       "12618  neurology/psychiatry  epilepsy|seizures|seizures                0   \n",
       "12619  neurology/psychiatry  epilepsy|seizures|seizures                0   \n",
       "12620  neurology/psychiatry  epilepsy|seizures|seizures                0   \n",
       "12621  neurology/psychiatry  epilepsy|seizures|seizures                0   \n",
       "\n",
       "       purity       vendor    catalog_no  \\\n",
       "12614   96.04      Selleck         S1168   \n",
       "12615   41.51       EMDBio    676380-5GM   \n",
       "12616   31.39         Enzo       550-304   \n",
       "12617   65.88        Sigma  MFCD00002672   \n",
       "12618    2.38       Tocris          2815   \n",
       "12619   42.10      Selleck         S1703   \n",
       "12620   96.83  MicroSource       1500606   \n",
       "12621   23.50      Selleck         S1703   \n",
       "\n",
       "                                        vendor_name expected_mass  \\\n",
       "12614  Valproic acid sodium salt (Sodium valproate)       144.115   \n",
       "12615                    Valproic Acid, Sodium Salt       144.115   \n",
       "12616                    Valproic Acid, Sodium Salt       144.115   \n",
       "12617                        2-propylpentanoic acid       144.115   \n",
       "12618                    Valproic acid, sodium salt       144.115   \n",
       "12619                             Divalproex sodium       144.115   \n",
       "12620                              VALPROATE SODIUM       144.115   \n",
       "12621                             Divalproex Sodium       144.115   \n",
       "\n",
       "                smiles                     InChIKey  pubchem_cid  \\\n",
       "12614  CCCC(CCC)C(O)=O  NIJJYAXOARWZEE-UHFFFAOYSA-N       3121.0   \n",
       "12615  CCCC(CCC)C(O)=O  NIJJYAXOARWZEE-UHFFFAOYSA-N       3121.0   \n",
       "12616  CCCC(CCC)C(O)=O  NIJJYAXOARWZEE-UHFFFAOYSA-N       3121.0   \n",
       "12617  CCCC(CCC)C(O)=O  NIJJYAXOARWZEE-UHFFFAOYSA-N       3121.0   \n",
       "12618  CCCC(CCC)C(O)=O  NIJJYAXOARWZEE-UHFFFAOYSA-N       3121.0   \n",
       "12619  CCCC(CCC)C(O)=O  NIJJYAXOARWZEE-UHFFFAOYSA-N       3121.0   \n",
       "12620  CCCC(CCC)C(O)=O  NIJJYAXOARWZEE-UHFFFAOYSA-N       3121.0   \n",
       "12621  CCCC(CCC)C(O)=O  NIJJYAXOARWZEE-UHFFFAOYSA-N       3121.0   \n",
       "\n",
       "          deprecated_broad_id      InChIKey14        pert_id  \n",
       "12614                     NaN  NIJJYAXOARWZEE  BRD-K41260949  \n",
       "12615                     NaN  NIJJYAXOARWZEE  BRD-K41260949  \n",
       "12616                     NaN  NIJJYAXOARWZEE  BRD-K41260949  \n",
       "12617                     NaN  NIJJYAXOARWZEE  BRD-K41260949  \n",
       "12618                     NaN  NIJJYAXOARWZEE  BRD-K41260949  \n",
       "12619  BRD-M19962486-236-03-2  NIJJYAXOARWZEE  BRD-K41260949  \n",
       "12620                     NaN  NIJJYAXOARWZEE  BRD-K41260949  \n",
       "12621  BRD-M19962486-236-02-4  NIJJYAXOARWZEE  BRD-K41260949  "
      ]
     },
     "execution_count": 9,
     "metadata": {},
     "output_type": "execute_result"
    },
    {
     "data": {
      "application/javascript": [
       "\n",
       "            setTimeout(function() {\n",
       "                var nbb_cell_id = 9;\n",
       "                var nbb_unformatted_code = \"# Examples of duplicate pert_id columns\\ntop_duplicated_pert_id = pert_counts.head(1).index.values[0]\\nannotation_df.query(\\\"pert_id == @top_duplicated_pert_id\\\")\";\n",
       "                var nbb_formatted_code = \"# Examples of duplicate pert_id columns\\ntop_duplicated_pert_id = pert_counts.head(1).index.values[0]\\nannotation_df.query(\\\"pert_id == @top_duplicated_pert_id\\\")\";\n",
       "                var nbb_cells = Jupyter.notebook.get_cells();\n",
       "                for (var i = 0; i < nbb_cells.length; ++i) {\n",
       "                    if (nbb_cells[i].input_prompt_number == nbb_cell_id) {\n",
       "                        if (nbb_cells[i].get_text() == nbb_unformatted_code) {\n",
       "                             nbb_cells[i].set_text(nbb_formatted_code);\n",
       "                        }\n",
       "                        break;\n",
       "                    }\n",
       "                }\n",
       "            }, 500);\n",
       "            "
      ],
      "text/plain": [
       "<IPython.core.display.Javascript object>"
      ]
     },
     "metadata": {},
     "output_type": "display_data"
    }
   ],
   "source": [
    "# Examples of duplicate pert_id columns\n",
    "top_duplicated_pert_id = pert_counts.head(1).index.values[0]\n",
    "annotation_df.query(\"pert_id == @top_duplicated_pert_id\")"
   ]
  },
  {
   "cell_type": "markdown",
   "metadata": {},
   "source": [
    "## Select only essential columns and determine/reconcile any discrepancies"
   ]
  },
  {
   "cell_type": "code",
   "execution_count": 10,
   "metadata": {},
   "outputs": [
    {
     "name": "stdout",
     "output_type": "stream",
     "text": [
      "(6806, 4)\n"
     ]
    },
    {
     "data": {
      "text/html": [
       "<div>\n",
       "<style scoped>\n",
       "    .dataframe tbody tr th:only-of-type {\n",
       "        vertical-align: middle;\n",
       "    }\n",
       "\n",
       "    .dataframe tbody tr th {\n",
       "        vertical-align: top;\n",
       "    }\n",
       "\n",
       "    .dataframe thead th {\n",
       "        text-align: right;\n",
       "    }\n",
       "</style>\n",
       "<table border=\"1\" class=\"dataframe\">\n",
       "  <thead>\n",
       "    <tr style=\"text-align: right;\">\n",
       "      <th></th>\n",
       "      <th>pert_id</th>\n",
       "      <th>pert_iname</th>\n",
       "      <th>moa</th>\n",
       "      <th>target</th>\n",
       "    </tr>\n",
       "  </thead>\n",
       "  <tbody>\n",
       "    <tr>\n",
       "      <th>0</th>\n",
       "      <td>BRD-K76022557</td>\n",
       "      <td>(R)-(-)-apomorphine</td>\n",
       "      <td>dopamine receptor agonist</td>\n",
       "      <td>ADRA2A|ADRA2B|ADRA2C|CALY|DRD1|DRD2|DRD3|DRD4|...</td>\n",
       "    </tr>\n",
       "    <tr>\n",
       "      <th>4</th>\n",
       "      <td>BRD-K75516118</td>\n",
       "      <td>(R)-(-)-rolipram</td>\n",
       "      <td>phosphodiesterase inhibitor</td>\n",
       "      <td>PDE4A|PDE4B|PDE4C|PDE4D|PDE5A</td>\n",
       "    </tr>\n",
       "    <tr>\n",
       "      <th>7</th>\n",
       "      <td>BRD-K62353271</td>\n",
       "      <td>(R)-baclofen</td>\n",
       "      <td>benzodiazepine receptor agonist</td>\n",
       "      <td>GABBR1|GABBR2</td>\n",
       "    </tr>\n",
       "    <tr>\n",
       "      <th>9</th>\n",
       "      <td>BRD-K65856711</td>\n",
       "      <td>(S)-(+)-rolipram</td>\n",
       "      <td>phosphodiesterase inhibitor</td>\n",
       "      <td>PDE4B|PDE4D</td>\n",
       "    </tr>\n",
       "    <tr>\n",
       "      <th>12</th>\n",
       "      <td>BRD-K89787693</td>\n",
       "      <td>[sar9,met(o2)11]-substance-p</td>\n",
       "      <td>tachykinin antagonist</td>\n",
       "      <td>TACR1</td>\n",
       "    </tr>\n",
       "  </tbody>\n",
       "</table>\n",
       "</div>"
      ],
      "text/plain": [
       "          pert_id                    pert_iname  \\\n",
       "0   BRD-K76022557           (R)-(-)-apomorphine   \n",
       "4   BRD-K75516118              (R)-(-)-rolipram   \n",
       "7   BRD-K62353271                  (R)-baclofen   \n",
       "9   BRD-K65856711              (S)-(+)-rolipram   \n",
       "12  BRD-K89787693  [sar9,met(o2)11]-substance-p   \n",
       "\n",
       "                                moa  \\\n",
       "0         dopamine receptor agonist   \n",
       "4       phosphodiesterase inhibitor   \n",
       "7   benzodiazepine receptor agonist   \n",
       "9       phosphodiesterase inhibitor   \n",
       "12            tachykinin antagonist   \n",
       "\n",
       "                                               target  \n",
       "0   ADRA2A|ADRA2B|ADRA2C|CALY|DRD1|DRD2|DRD3|DRD4|...  \n",
       "4                       PDE4A|PDE4B|PDE4C|PDE4D|PDE5A  \n",
       "7                                       GABBR1|GABBR2  \n",
       "9                                         PDE4B|PDE4D  \n",
       "12                                              TACR1  "
      ]
     },
     "execution_count": 10,
     "metadata": {},
     "output_type": "execute_result"
    },
    {
     "data": {
      "application/javascript": [
       "\n",
       "            setTimeout(function() {\n",
       "                var nbb_cell_id = 10;\n",
       "                var nbb_unformatted_code = \"basic_df = annotation_df.loc[:, use_cols].drop_duplicates()\\n\\nprint(basic_df.shape)\\nbasic_df.head()\";\n",
       "                var nbb_formatted_code = \"basic_df = annotation_df.loc[:, use_cols].drop_duplicates()\\n\\nprint(basic_df.shape)\\nbasic_df.head()\";\n",
       "                var nbb_cells = Jupyter.notebook.get_cells();\n",
       "                for (var i = 0; i < nbb_cells.length; ++i) {\n",
       "                    if (nbb_cells[i].input_prompt_number == nbb_cell_id) {\n",
       "                        if (nbb_cells[i].get_text() == nbb_unformatted_code) {\n",
       "                             nbb_cells[i].set_text(nbb_formatted_code);\n",
       "                        }\n",
       "                        break;\n",
       "                    }\n",
       "                }\n",
       "            }, 500);\n",
       "            "
      ],
      "text/plain": [
       "<IPython.core.display.Javascript object>"
      ]
     },
     "metadata": {},
     "output_type": "display_data"
    }
   ],
   "source": [
    "basic_df = annotation_df.loc[:, use_cols].drop_duplicates()\n",
    "\n",
    "print(basic_df.shape)\n",
    "basic_df.head()"
   ]
  },
  {
   "cell_type": "code",
   "execution_count": 11,
   "metadata": {},
   "outputs": [
    {
     "data": {
      "application/javascript": [
       "\n",
       "            setTimeout(function() {\n",
       "                var nbb_cell_id = 11;\n",
       "                var nbb_unformatted_code = \"duplicated_pert_ids = basic_df.pert_id.loc[basic_df.pert_id.duplicated()]\\nassert len(duplicated_pert_ids) == 0, \\\"Warning! There are duplicated pert_ids\\\"\";\n",
       "                var nbb_formatted_code = \"duplicated_pert_ids = basic_df.pert_id.loc[basic_df.pert_id.duplicated()]\\nassert len(duplicated_pert_ids) == 0, \\\"Warning! There are duplicated pert_ids\\\"\";\n",
       "                var nbb_cells = Jupyter.notebook.get_cells();\n",
       "                for (var i = 0; i < nbb_cells.length; ++i) {\n",
       "                    if (nbb_cells[i].input_prompt_number == nbb_cell_id) {\n",
       "                        if (nbb_cells[i].get_text() == nbb_unformatted_code) {\n",
       "                             nbb_cells[i].set_text(nbb_formatted_code);\n",
       "                        }\n",
       "                        break;\n",
       "                    }\n",
       "                }\n",
       "            }, 500);\n",
       "            "
      ],
      "text/plain": [
       "<IPython.core.display.Javascript object>"
      ]
     },
     "metadata": {},
     "output_type": "display_data"
    }
   ],
   "source": [
    "duplicated_pert_ids = basic_df.pert_id.loc[basic_df.pert_id.duplicated()]\n",
    "assert len(duplicated_pert_ids) == 0, \"Warning! There are duplicated pert_ids\""
   ]
  },
  {
   "cell_type": "code",
   "execution_count": 12,
   "metadata": {},
   "outputs": [
    {
     "data": {
      "application/javascript": [
       "\n",
       "            setTimeout(function() {\n",
       "                var nbb_cell_id = 12;\n",
       "                var nbb_unformatted_code = \"output_file = \\\"repurposing_simple.tsv\\\"\\nbasic_df.to_csv(output_file, index=False, sep=\\\"\\\\t\\\")\";\n",
       "                var nbb_formatted_code = \"output_file = \\\"repurposing_simple.tsv\\\"\\nbasic_df.to_csv(output_file, index=False, sep=\\\"\\\\t\\\")\";\n",
       "                var nbb_cells = Jupyter.notebook.get_cells();\n",
       "                for (var i = 0; i < nbb_cells.length; ++i) {\n",
       "                    if (nbb_cells[i].input_prompt_number == nbb_cell_id) {\n",
       "                        if (nbb_cells[i].get_text() == nbb_unformatted_code) {\n",
       "                             nbb_cells[i].set_text(nbb_formatted_code);\n",
       "                        }\n",
       "                        break;\n",
       "                    }\n",
       "                }\n",
       "            }, 500);\n",
       "            "
      ],
      "text/plain": [
       "<IPython.core.display.Javascript object>"
      ]
     },
     "metadata": {},
     "output_type": "display_data"
    }
   ],
   "source": [
    "output_file = \"repurposing_simple.tsv\"\n",
    "basic_df.to_csv(output_file, index=False, sep=\"\\t\")"
   ]
  }
 ],
 "metadata": {
  "kernelspec": {
   "display_name": "Python 3",
   "language": "python",
   "name": "python3"
  },
  "language_info": {
   "codemirror_mode": {
    "name": "ipython",
    "version": 3
   },
   "file_extension": ".py",
   "mimetype": "text/x-python",
   "name": "python",
   "nbconvert_exporter": "python",
   "pygments_lexer": "ipython3",
   "version": "3.7.6"
  }
 },
 "nbformat": 4,
 "nbformat_minor": 4
}
